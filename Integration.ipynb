{
 "cells": [
  {
   "cell_type": "markdown",
   "metadata": {},
   "source": [
    "***Color manual***\n",
    "\n",
    "<div class=\"alert alert-block alert-success\">\n",
    "<b>Green - Libraries</b>\n",
    "</div>\n",
    "\n",
    "<div class=\"alert alert-block alert-info\">\n",
    "<b>Blue - Information</b>\n",
    "</div>\n",
    "\n",
    "<div class=\"alert alert-block alert-danger\">\n",
    "<b>Red - Problems</b>\n",
    "</div>\n",
    "\n",
    "***"
   ]
  },
  {
   "cell_type": "markdown",
   "metadata": {},
   "source": [
    "<div class=\"alert alert-block alert-success\">\n",
    "<b>Import libraries</b>\n",
    "</div>"
   ]
  },
  {
   "cell_type": "code",
   "execution_count": 16,
   "metadata": {},
   "outputs": [],
   "source": [
    "import sympy as sym\n",
    "\n",
    "from sympy import * "
   ]
  },
  {
   "cell_type": "markdown",
   "metadata": {},
   "source": [
    "<div class=\"alert alert-block alert-info\">\n",
    "<b>Create symbols</b>\n",
    "</div>"
   ]
  },
  {
   "cell_type": "code",
   "execution_count": 17,
   "metadata": {},
   "outputs": [],
   "source": [
    "x = sym.Symbol('x')"
   ]
  },
  {
   "cell_type": "markdown",
   "metadata": {},
   "source": [
    "<div class=\"alert alert-block alert-info\">\n",
    "<b>Make bold strings</b>\n",
    "</div>"
   ]
  },
  {
   "cell_type": "code",
   "execution_count": 18,
   "metadata": {},
   "outputs": [],
   "source": [
    "class style:\n",
    "   BOLD = '\\033[1m'\n",
    "   END = '\\033[0m'"
   ]
  },
  {
   "cell_type": "markdown",
   "metadata": {},
   "source": [
    "<div class=\"alert alert-block alert-info\">\n",
    "<b>Creating and solving indefinite integral with integrate method</b>\n",
    "</div>"
   ]
  },
  {
   "cell_type": "code",
   "execution_count": 49,
   "metadata": {},
   "outputs": [
    {
     "name": "stdout",
     "output_type": "stream",
     "text": [
      "\u001b[1mThis is the equation:\u001b[0m\n"
     ]
    },
    {
     "data": {
      "text/latex": [
       "$\\displaystyle x^{2} + 5 x - 8$"
      ],
      "text/plain": [
       "x**2 + 5*x - 8"
      ]
     },
     "metadata": {},
     "output_type": "display_data"
    },
    {
     "name": "stdout",
     "output_type": "stream",
     "text": [
      "\u001b[1mThis is the integral where C is equal to 0:\u001b[0m\n"
     ]
    },
    {
     "data": {
      "text/latex": [
       "$\\displaystyle \\int \\left(x^{2} + 5 x - 8\\right)\\, dx$"
      ],
      "text/plain": [
       "Integral(x**2 + 5*x - 8, x)"
      ]
     },
     "metadata": {},
     "output_type": "display_data"
    },
    {
     "data": {
      "text/latex": [
       "$\\displaystyle \\frac{x^{3}}{3} + \\frac{5 x^{2}}{2} - 8 x$"
      ],
      "text/plain": [
       "x**3/3 + 5*x**2/2 - 8*x"
      ]
     },
     "metadata": {},
     "output_type": "display_data"
    }
   ],
   "source": [
    "f = x**2 + 5*x - 8\n",
    "\n",
    "print(style.BOLD + 'This is the equation:' + style.END)\n",
    "display(f)\n",
    "print(style.BOLD + 'This is the integral where C is equal to 0:' + style.END)\n",
    "display(sym.Integral(f, x))\n",
    "display(sym.integrate(f, x))"
   ]
  },
  {
   "cell_type": "code",
   "execution_count": 68,
   "metadata": {},
   "outputs": [
    {
     "name": "stdout",
     "output_type": "stream",
     "text": [
      "\u001b[1mThis is the equation:\u001b[0m\n"
     ]
    },
    {
     "data": {
      "text/latex": [
       "$\\displaystyle \\frac{x^{3}}{10} + \\frac{2 x}{5}$"
      ],
      "text/plain": [
       "x**3/10 + 2*x/5"
      ]
     },
     "metadata": {},
     "output_type": "display_data"
    },
    {
     "name": "stdout",
     "output_type": "stream",
     "text": [
      "\u001b[1mThis is the integral where C is equal to 0:\u001b[0m\n"
     ]
    },
    {
     "data": {
      "text/latex": [
       "$\\displaystyle \\int \\left(\\frac{x^{3}}{10} + \\frac{2 x}{5}\\right)\\, dx$"
      ],
      "text/plain": [
       "Integral(x**3/10 + 2*x/5, x)"
      ]
     },
     "metadata": {},
     "output_type": "display_data"
    },
    {
     "data": {
      "text/latex": [
       "$\\displaystyle \\frac{x^{4}}{40} + \\frac{x^{2}}{5}$"
      ],
      "text/plain": [
       "x**4/40 + x**2/5"
      ]
     },
     "metadata": {},
     "output_type": "display_data"
    }
   ],
   "source": [
    "f = (x**3)/10 + (2*x)/5\n",
    "\n",
    "print(style.BOLD + 'This is the equation:' + style.END)\n",
    "display(f)\n",
    "print(style.BOLD + 'This is the integral where C is equal to 0:' + style.END)\n",
    "display(sym.Integral(f, x))\n",
    "display(sym.integrate(f, x))"
   ]
  },
  {
   "cell_type": "markdown",
   "metadata": {},
   "source": [
    "<div class=\"alert alert-block alert-info\">\n",
    "<b>Creating and solving integration by substitution with integrate method</b>\n",
    "</div>"
   ]
  },
  {
   "cell_type": "code",
   "execution_count": 67,
   "metadata": {},
   "outputs": [
    {
     "name": "stdout",
     "output_type": "stream",
     "text": [
      "\u001b[1mThis is the equation:\u001b[0m\n"
     ]
    },
    {
     "data": {
      "text/latex": [
       "$\\displaystyle \\cos{\\left(2 x \\right)}$"
      ],
      "text/plain": [
       "cos(2*x)"
      ]
     },
     "metadata": {},
     "output_type": "display_data"
    },
    {
     "name": "stdout",
     "output_type": "stream",
     "text": [
      "\u001b[1mThis is the integral where C is equal to 0:\u001b[0m\n"
     ]
    },
    {
     "data": {
      "text/latex": [
       "$\\displaystyle \\int \\cos{\\left(2 x \\right)}\\, dx$"
      ],
      "text/plain": [
       "Integral(cos(2*x), x)"
      ]
     },
     "metadata": {},
     "output_type": "display_data"
    },
    {
     "data": {
      "text/latex": [
       "$\\displaystyle \\frac{\\sin{\\left(2 x \\right)}}{2}$"
      ],
      "text/plain": [
       "sin(2*x)/2"
      ]
     },
     "metadata": {},
     "output_type": "display_data"
    }
   ],
   "source": [
    "f = sym.cos(2*x)\n",
    "\n",
    "print(style.BOLD + 'This is the equation:' + style.END)\n",
    "display(f)\n",
    "print(style.BOLD + 'This is the integral where C is equal to 0:' + style.END)\n",
    "display(sym.Integral(f, x))\n",
    "display(sym.integrate(f, x))"
   ]
  },
  {
   "cell_type": "code",
   "execution_count": 66,
   "metadata": {},
   "outputs": [
    {
     "name": "stdout",
     "output_type": "stream",
     "text": [
      "\u001b[1mThis is the equation:\u001b[0m\n"
     ]
    },
    {
     "data": {
      "text/latex": [
       "$\\displaystyle \\frac{e^{2 x}}{x}$"
      ],
      "text/plain": [
       "exp(2*x)/x"
      ]
     },
     "metadata": {},
     "output_type": "display_data"
    },
    {
     "name": "stdout",
     "output_type": "stream",
     "text": [
      "\u001b[1mThis is the integral where C is equal to 0:\u001b[0m\n"
     ]
    },
    {
     "data": {
      "text/latex": [
       "$\\displaystyle \\int \\frac{e^{2 x}}{x}\\, dx$"
      ],
      "text/plain": [
       "Integral(exp(2*x)/x, x)"
      ]
     },
     "metadata": {},
     "output_type": "display_data"
    },
    {
     "data": {
      "text/latex": [
       "$\\displaystyle \\operatorname{Ei}{\\left(2 x \\right)}$"
      ],
      "text/plain": [
       "Ei(2*x)"
      ]
     },
     "metadata": {},
     "output_type": "display_data"
    }
   ],
   "source": [
    "f = sym.exp(2*x)/(x)\n",
    "\n",
    "print(style.BOLD + 'This is the equation:' + style.END)\n",
    "display(f)\n",
    "print(style.BOLD + 'This is the integral where C is equal to 0:' + style.END)\n",
    "display(sym.Integral(f, x))\n",
    "display(sym.integrate(f, x))"
   ]
  },
  {
   "cell_type": "markdown",
   "metadata": {},
   "source": [
    "<div class=\"alert alert-block alert-info\">\n",
    "<b>Creating and solving integrals by parts with integrate method</b>\n",
    "</div>"
   ]
  },
  {
   "cell_type": "code",
   "execution_count": 57,
   "metadata": {},
   "outputs": [
    {
     "name": "stdout",
     "output_type": "stream",
     "text": [
      "\u001b[1mThis is the equation:\u001b[0m\n"
     ]
    },
    {
     "data": {
      "text/latex": [
       "$\\displaystyle \\log{\\left(3 x^{2} \\right)}$"
      ],
      "text/plain": [
       "log(3*x**2)"
      ]
     },
     "metadata": {},
     "output_type": "display_data"
    },
    {
     "name": "stdout",
     "output_type": "stream",
     "text": [
      "\u001b[1mThis is the integral where C is equal to 0:\u001b[0m\n"
     ]
    },
    {
     "data": {
      "text/latex": [
       "$\\displaystyle \\int \\log{\\left(3 x^{2} \\right)}\\, dx$"
      ],
      "text/plain": [
       "Integral(log(3*x**2), x)"
      ]
     },
     "metadata": {},
     "output_type": "display_data"
    },
    {
     "data": {
      "text/latex": [
       "$\\displaystyle x \\log{\\left(3 x^{2} \\right)} - 2 x$"
      ],
      "text/plain": [
       "x*log(3*x**2) - 2*x"
      ]
     },
     "metadata": {},
     "output_type": "display_data"
    }
   ],
   "source": [
    "f = sym.log(3*x**2)\n",
    "\n",
    "print(style.BOLD + 'This is the equation:' + style.END)\n",
    "display(f)\n",
    "print(style.BOLD + 'This is the integral where C is equal to 0:' + style.END)\n",
    "display(sym.Integral(f, x))\n",
    "display(sym.integrate(f, x))"
   ]
  },
  {
   "cell_type": "code",
   "execution_count": 58,
   "metadata": {
    "scrolled": true
   },
   "outputs": [
    {
     "name": "stdout",
     "output_type": "stream",
     "text": [
      "\u001b[1mThis is the equation:\u001b[0m\n"
     ]
    },
    {
     "data": {
      "text/latex": [
       "$\\displaystyle x e^{x}$"
      ],
      "text/plain": [
       "x*exp(x)"
      ]
     },
     "metadata": {},
     "output_type": "display_data"
    },
    {
     "name": "stdout",
     "output_type": "stream",
     "text": [
      "\u001b[1mThis is the integral where C is equal to 0:\u001b[0m\n"
     ]
    },
    {
     "data": {
      "text/latex": [
       "$\\displaystyle \\int x e^{x}\\, dx$"
      ],
      "text/plain": [
       "Integral(x*exp(x), x)"
      ]
     },
     "metadata": {},
     "output_type": "display_data"
    },
    {
     "data": {
      "text/latex": [
       "$\\displaystyle \\left(x - 1\\right) e^{x}$"
      ],
      "text/plain": [
       "(x - 1)*exp(x)"
      ]
     },
     "metadata": {},
     "output_type": "display_data"
    },
    {
     "data": {
      "text/latex": [
       "$\\displaystyle x e^{x} - e^{x}$"
      ],
      "text/plain": [
       "x*exp(x) - exp(x)"
      ]
     },
     "metadata": {},
     "output_type": "display_data"
    }
   ],
   "source": [
    "f = x*sym.exp(x)\n",
    "\n",
    "print(style.BOLD + 'This is the equation:' + style.END)\n",
    "display(f)\n",
    "print(style.BOLD + 'This is the integral where C is equal to 0:' + style.END)\n",
    "display(sym.Integral(f, x))\n",
    "aws = sym.integrate(f, x)\n",
    "display(aws)\n",
    "display(aws.expand())"
   ]
  },
  {
   "cell_type": "code",
   "execution_count": 61,
   "metadata": {},
   "outputs": [
    {
     "name": "stdout",
     "output_type": "stream",
     "text": [
      "\u001b[1mThis is the equation:\u001b[0m\n"
     ]
    },
    {
     "data": {
      "text/latex": [
       "$\\displaystyle \\frac{e^{2 x}}{x^{2}}$"
      ],
      "text/plain": [
       "exp(2*x)/x**2"
      ]
     },
     "metadata": {},
     "output_type": "display_data"
    },
    {
     "name": "stdout",
     "output_type": "stream",
     "text": [
      "\u001b[1mThis is the integral where C is equal to 0:\u001b[0m\n"
     ]
    },
    {
     "data": {
      "text/latex": [
       "$\\displaystyle \\int \\frac{e^{2 x}}{x^{2}}\\, dx$"
      ],
      "text/plain": [
       "Integral(exp(2*x)/x**2, x)"
      ]
     },
     "metadata": {},
     "output_type": "display_data"
    },
    {
     "data": {
      "text/latex": [
       "$\\displaystyle 2 \\operatorname{Ei}{\\left(2 x \\right)} - \\frac{e^{2 x}}{x}$"
      ],
      "text/plain": [
       "2*Ei(2*x) - exp(2*x)/x"
      ]
     },
     "metadata": {},
     "output_type": "display_data"
    }
   ],
   "source": [
    "f = sym.exp(2*x)/(x**2)\n",
    "\n",
    "print(style.BOLD + 'This is the equation:' + style.END)\n",
    "display(f)\n",
    "print(style.BOLD + 'This is the integral where C is equal to 0:' + style.END)\n",
    "display(sym.Integral(f, x))\n",
    "display(sym.integrate(f, x))"
   ]
  },
  {
   "cell_type": "code",
   "execution_count": 63,
   "metadata": {},
   "outputs": [
    {
     "name": "stdout",
     "output_type": "stream",
     "text": [
      "\u001b[1mThis is the equation:\u001b[0m\n"
     ]
    },
    {
     "data": {
      "text/latex": [
       "$\\displaystyle x \\sin{\\left(2 x \\right)}$"
      ],
      "text/plain": [
       "x*sin(2*x)"
      ]
     },
     "metadata": {},
     "output_type": "display_data"
    },
    {
     "name": "stdout",
     "output_type": "stream",
     "text": [
      "\u001b[1mThis is the integral where C is equal to 0:\u001b[0m\n"
     ]
    },
    {
     "data": {
      "text/latex": [
       "$\\displaystyle \\int x \\sin{\\left(2 x \\right)}\\, dx$"
      ],
      "text/plain": [
       "Integral(x*sin(2*x), x)"
      ]
     },
     "metadata": {},
     "output_type": "display_data"
    },
    {
     "data": {
      "text/latex": [
       "$\\displaystyle - \\frac{x \\cos{\\left(2 x \\right)}}{2} + \\frac{\\sin{\\left(2 x \\right)}}{4}$"
      ],
      "text/plain": [
       "-x*cos(2*x)/2 + sin(2*x)/4"
      ]
     },
     "metadata": {},
     "output_type": "display_data"
    }
   ],
   "source": [
    "f = x*sym.sin(2*x)\n",
    "\n",
    "print(style.BOLD + 'This is the equation:' + style.END)\n",
    "display(f)\n",
    "print(style.BOLD + 'This is the integral where C is equal to 0:' + style.END)\n",
    "display(sym.Integral(f, x))\n",
    "display(sym.integrate(f, x))"
   ]
  },
  {
   "cell_type": "markdown",
   "metadata": {},
   "source": [
    "<div class=\"alert alert-block alert-info\">\n",
    "<b>Creating and solving definite integral with integrate method</b>\n",
    "</div>"
   ]
  },
  {
   "cell_type": "code",
   "execution_count": 65,
   "metadata": {},
   "outputs": [
    {
     "name": "stdout",
     "output_type": "stream",
     "text": [
      "\u001b[1mThis is the equation:\u001b[0m\n"
     ]
    },
    {
     "data": {
      "text/latex": [
       "$\\displaystyle x^{3} + 4 x - 10$"
      ],
      "text/plain": [
       "x**3 + 4*x - 10"
      ]
     },
     "metadata": {},
     "output_type": "display_data"
    },
    {
     "name": "stdout",
     "output_type": "stream",
     "text": [
      "\u001b[1mThis is the integral where C is equal to 0:\u001b[0m\n"
     ]
    },
    {
     "data": {
      "text/latex": [
       "$\\displaystyle \\int\\limits_{4}^{10} \\left(x^{3} + 4 x - 10\\right)\\, dx$"
      ],
      "text/plain": [
       "Integral(x**3 + 4*x - 10, (x, 4, 10))"
      ]
     },
     "metadata": {},
     "output_type": "display_data"
    },
    {
     "data": {
      "text/latex": [
       "$\\displaystyle 2544$"
      ],
      "text/plain": [
       "2544"
      ]
     },
     "metadata": {},
     "output_type": "display_data"
    }
   ],
   "source": [
    "f = x**3 + 4*x - 10\n",
    "\n",
    "print(style.BOLD + 'This is the equation:' + style.END)\n",
    "display(f)\n",
    "print(style.BOLD + 'This is the integral where C is equal to 0:' + style.END)\n",
    "display(sym.Integral(f, (x, 4, 10)))\n",
    "display(sym.integrate(f, (x, 4, 10)))"
   ]
  },
  {
   "cell_type": "markdown",
   "metadata": {},
   "source": [
    "<div class=\"alert alert-block alert-info\">\n",
    "<b>Creating and solving improper integral with integrate method</b>\n",
    "</div>"
   ]
  },
  {
   "cell_type": "code",
   "execution_count": 25,
   "metadata": {},
   "outputs": [
    {
     "name": "stdout",
     "output_type": "stream",
     "text": [
      "\u001b[1mThis is the equation:\u001b[0m\n"
     ]
    },
    {
     "data": {
      "text/latex": [
       "$\\displaystyle 15 x - 2$"
      ],
      "text/plain": [
       "15*x - 2"
      ]
     },
     "metadata": {},
     "output_type": "display_data"
    },
    {
     "name": "stdout",
     "output_type": "stream",
     "text": [
      "\u001b[1mThis is the integral where C is equal to 0:\u001b[0m\n"
     ]
    },
    {
     "data": {
      "text/latex": [
       "$\\displaystyle \\int\\limits_{4}^{10} \\left(15 x - 2\\right)\\, dx$"
      ],
      "text/plain": [
       "Integral(15*x - 2, (x, 4, 10))"
      ]
     },
     "metadata": {},
     "output_type": "display_data"
    },
    {
     "data": {
      "text/latex": [
       "$\\displaystyle 618$"
      ],
      "text/plain": [
       "618"
      ]
     },
     "metadata": {},
     "output_type": "display_data"
    }
   ],
   "source": [
    "f = 10*x + 5*x - 2\n",
    "\n",
    "print(style.BOLD + 'This is the equation:' + style.END)\n",
    "display(f)\n",
    "print(style.BOLD + 'This is the integral where C is equal to 0:' + style.END)\n",
    "display(sym.Integral(f, (x, 4, 10 )))\n",
    "display(sym.integrate(f, (x, 4, 10)))"
   ]
  }
 ],
 "metadata": {
  "kernelspec": {
   "display_name": "Python 3",
   "language": "python",
   "name": "python3"
  },
  "language_info": {
   "codemirror_mode": {
    "name": "ipython",
    "version": 3
   },
   "file_extension": ".py",
   "mimetype": "text/x-python",
   "name": "python",
   "nbconvert_exporter": "python",
   "pygments_lexer": "ipython3",
   "version": "3.7.7"
  }
 },
 "nbformat": 4,
 "nbformat_minor": 4
}
