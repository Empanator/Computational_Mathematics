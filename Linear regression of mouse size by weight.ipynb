{
 "cells": [
  {
   "cell_type": "markdown",
   "metadata": {},
   "source": [
    "***Color manual***\n",
    "\n",
    "<div class=\"alert alert-block alert-success\">\n",
    "<b>Green - Libraries</b>\n",
    "</div>\n",
    "\n",
    "<div class=\"alert alert-block alert-info\">\n",
    "<b>Blue - Information</b>\n",
    "</div>\n",
    "\n",
    "<div class=\"alert alert-block alert-danger\">\n",
    "<b>Red - Problems</b>\n",
    "</div>\n",
    "\n",
    "***"
   ]
  },
  {
   "cell_type": "markdown",
   "metadata": {},
   "source": [
    "<div class=\"alert alert-block alert-success\">\n",
    "<b>Green - Libraries</b>\n",
    "</div>"
   ]
  },
  {
   "cell_type": "code",
   "execution_count": 24,
   "metadata": {},
   "outputs": [],
   "source": [
    "import numpy as np  \n",
    "import chart_studio\n",
    "import pandas as pd\n",
    "import statsmodels.api as sm\n",
    "import plotly.graph_objs as go\n",
    "import chart_studio.plotly as py\n",
    "\n",
    "from sklearn.linear_model import LinearRegression\n",
    "\n",
    "chart_studio.tools.set_config_file(world_readable = True, sharing = 'public')"
   ]
  },
  {
   "cell_type": "markdown",
   "metadata": {},
   "source": [
    "<div class=\"alert alert-block alert-info\">\n",
    "<b>Create data frame</b>\n",
    "</div>"
   ]
  },
  {
   "cell_type": "code",
   "execution_count": 25,
   "metadata": {},
   "outputs": [
    {
     "data": {
      "text/html": [
       "<div>\n",
       "<style scoped>\n",
       "    .dataframe tbody tr th:only-of-type {\n",
       "        vertical-align: middle;\n",
       "    }\n",
       "\n",
       "    .dataframe tbody tr th {\n",
       "        vertical-align: top;\n",
       "    }\n",
       "\n",
       "    .dataframe thead th {\n",
       "        text-align: right;\n",
       "    }\n",
       "</style>\n",
       "<table border=\"1\" class=\"dataframe\">\n",
       "  <thead>\n",
       "    <tr style=\"text-align: right;\">\n",
       "      <th></th>\n",
       "      <th>Weight</th>\n",
       "      <th>Size</th>\n",
       "    </tr>\n",
       "  </thead>\n",
       "  <tbody>\n",
       "    <tr>\n",
       "      <th>0</th>\n",
       "      <td>0.9</td>\n",
       "      <td>1.4</td>\n",
       "    </tr>\n",
       "    <tr>\n",
       "      <th>1</th>\n",
       "      <td>1.8</td>\n",
       "      <td>2.6</td>\n",
       "    </tr>\n",
       "    <tr>\n",
       "      <th>2</th>\n",
       "      <td>2.4</td>\n",
       "      <td>1.0</td>\n",
       "    </tr>\n",
       "    <tr>\n",
       "      <th>3</th>\n",
       "      <td>3.5</td>\n",
       "      <td>3.7</td>\n",
       "    </tr>\n",
       "    <tr>\n",
       "      <th>4</th>\n",
       "      <td>3.9</td>\n",
       "      <td>5.5</td>\n",
       "    </tr>\n",
       "    <tr>\n",
       "      <th>5</th>\n",
       "      <td>4.4</td>\n",
       "      <td>3.2</td>\n",
       "    </tr>\n",
       "    <tr>\n",
       "      <th>6</th>\n",
       "      <td>5.1</td>\n",
       "      <td>3.0</td>\n",
       "    </tr>\n",
       "    <tr>\n",
       "      <th>7</th>\n",
       "      <td>5.6</td>\n",
       "      <td>4.9</td>\n",
       "    </tr>\n",
       "    <tr>\n",
       "      <th>8</th>\n",
       "      <td>6.3</td>\n",
       "      <td>6.3</td>\n",
       "    </tr>\n",
       "  </tbody>\n",
       "</table>\n",
       "</div>"
      ],
      "text/plain": [
       "   Weight  Size\n",
       "0     0.9   1.4\n",
       "1     1.8   2.6\n",
       "2     2.4   1.0\n",
       "3     3.5   3.7\n",
       "4     3.9   5.5\n",
       "5     4.4   3.2\n",
       "6     5.1   3.0\n",
       "7     5.6   4.9\n",
       "8     6.3   6.3"
      ]
     },
     "execution_count": 25,
     "metadata": {},
     "output_type": "execute_result"
    }
   ],
   "source": [
    "data = {'Weight': [0.9, 1.8, 2.4, 3.5, 3.9, 4.4, 5.1, 5.6, 6.3],\n",
    "        'Size': [1.4, 2.6, 1.0, 3.7, 5.5, 3.2, 3.0, 4.9, 6.3]}\n",
    "\n",
    "df = pd.DataFrame(data, columns = ['Weight', 'Size'])\n",
    "\n",
    "\n",
    "df"
   ]
  },
  {
   "cell_type": "markdown",
   "metadata": {},
   "source": [
    "<div class=\"alert alert-block alert-info\">\n",
    "<b>Linear regression</b>\n",
    "</div>"
   ]
  },
  {
   "cell_type": "code",
   "execution_count": 26,
   "metadata": {},
   "outputs": [
    {
     "name": "stderr",
     "output_type": "stream",
     "text": [
      "C:\\Users\\Sif\\Anaconda3\\lib\\site-packages\\scipy\\stats\\stats.py:1535: UserWarning:\n",
      "\n",
      "kurtosistest only valid for n>=20 ... continuing anyway, n=9\n",
      "\n"
     ]
    },
    {
     "data": {
      "text/html": [
       "<table class=\"simpletable\">\n",
       "<caption>OLS Regression Results</caption>\n",
       "<tr>\n",
       "  <th>Dep. Variable:</th>          <td>Size</td>       <th>  R-squared:         </th> <td>   0.613</td>\n",
       "</tr>\n",
       "<tr>\n",
       "  <th>Model:</th>                   <td>OLS</td>       <th>  Adj. R-squared:    </th> <td>   0.558</td>\n",
       "</tr>\n",
       "<tr>\n",
       "  <th>Method:</th>             <td>Least Squares</td>  <th>  F-statistic:       </th> <td>   11.10</td>\n",
       "</tr>\n",
       "<tr>\n",
       "  <th>Date:</th>             <td>Tue, 05 May 2020</td> <th>  Prob (F-statistic):</th>  <td>0.0126</td> \n",
       "</tr>\n",
       "<tr>\n",
       "  <th>Time:</th>                 <td>05:45:34</td>     <th>  Log-Likelihood:    </th> <td> -13.208</td>\n",
       "</tr>\n",
       "<tr>\n",
       "  <th>No. Observations:</th>      <td>     9</td>      <th>  AIC:               </th> <td>   30.42</td>\n",
       "</tr>\n",
       "<tr>\n",
       "  <th>Df Residuals:</th>          <td>     7</td>      <th>  BIC:               </th> <td>   30.81</td>\n",
       "</tr>\n",
       "<tr>\n",
       "  <th>Df Model:</th>              <td>     1</td>      <th>                     </th>     <td> </td>   \n",
       "</tr>\n",
       "<tr>\n",
       "  <th>Covariance Type:</th>      <td>nonrobust</td>    <th>                     </th>     <td> </td>   \n",
       "</tr>\n",
       "</table>\n",
       "<table class=\"simpletable\">\n",
       "<tr>\n",
       "     <td></td>       <th>coef</th>     <th>std err</th>      <th>t</th>      <th>P>|t|</th>  <th>[0.025</th>    <th>0.975]</th>  \n",
       "</tr>\n",
       "<tr>\n",
       "  <th>const</th>  <td>    0.5813</td> <td>    0.965</td> <td>    0.603</td> <td> 0.566</td> <td>   -1.700</td> <td>    2.862</td>\n",
       "</tr>\n",
       "<tr>\n",
       "  <th>Weight</th> <td>    0.7778</td> <td>    0.233</td> <td>    3.332</td> <td> 0.013</td> <td>    0.226</td> <td>    1.330</td>\n",
       "</tr>\n",
       "</table>\n",
       "<table class=\"simpletable\">\n",
       "<tr>\n",
       "  <th>Omnibus:</th>       <td> 0.025</td> <th>  Durbin-Watson:     </th> <td>   2.111</td>\n",
       "</tr>\n",
       "<tr>\n",
       "  <th>Prob(Omnibus):</th> <td> 0.988</td> <th>  Jarque-Bera (JB):  </th> <td>   0.254</td>\n",
       "</tr>\n",
       "<tr>\n",
       "  <th>Skew:</th>          <td> 0.027</td> <th>  Prob(JB):          </th> <td>   0.881</td>\n",
       "</tr>\n",
       "<tr>\n",
       "  <th>Kurtosis:</th>      <td> 2.178</td> <th>  Cond. No.          </th> <td>    10.5</td>\n",
       "</tr>\n",
       "</table><br/><br/>Warnings:<br/>[1] Standard Errors assume that the covariance matrix of the errors is correctly specified."
      ],
      "text/plain": [
       "<class 'statsmodels.iolib.summary.Summary'>\n",
       "\"\"\"\n",
       "                            OLS Regression Results                            \n",
       "==============================================================================\n",
       "Dep. Variable:                   Size   R-squared:                       0.613\n",
       "Model:                            OLS   Adj. R-squared:                  0.558\n",
       "Method:                 Least Squares   F-statistic:                     11.10\n",
       "Date:                Tue, 05 May 2020   Prob (F-statistic):             0.0126\n",
       "Time:                        05:45:34   Log-Likelihood:                -13.208\n",
       "No. Observations:                   9   AIC:                             30.42\n",
       "Df Residuals:                       7   BIC:                             30.81\n",
       "Df Model:                           1                                         \n",
       "Covariance Type:            nonrobust                                         \n",
       "==============================================================================\n",
       "                 coef    std err          t      P>|t|      [0.025      0.975]\n",
       "------------------------------------------------------------------------------\n",
       "const          0.5813      0.965      0.603      0.566      -1.700       2.862\n",
       "Weight         0.7778      0.233      3.332      0.013       0.226       1.330\n",
       "==============================================================================\n",
       "Omnibus:                        0.025   Durbin-Watson:                   2.111\n",
       "Prob(Omnibus):                  0.988   Jarque-Bera (JB):                0.254\n",
       "Skew:                           0.027   Prob(JB):                        0.881\n",
       "Kurtosis:                       2.178   Cond. No.                         10.5\n",
       "==============================================================================\n",
       "\n",
       "Warnings:\n",
       "[1] Standard Errors assume that the covariance matrix of the errors is correctly specified.\n",
       "\"\"\""
      ]
     },
     "execution_count": 26,
     "metadata": {},
     "output_type": "execute_result"
    }
   ],
   "source": [
    "x = df['Weight']\n",
    "y = df['Size']\n",
    "\n",
    "x = sm.add_constant(x)\n",
    "\n",
    "model = sm.OLS(y, x, missing = 'drop')\n",
    "\n",
    "results = model.fit()\n",
    "\n",
    "results.summary()"
   ]
  },
  {
   "cell_type": "code",
   "execution_count": 27,
   "metadata": {},
   "outputs": [],
   "source": [
    "# If you need to use sklearn then\n",
    "# model = LinearRegression().fit(x, y)\n",
    "# y_pred = model.predict(x)\n",
    "\n",
    "# If you need to use statsmodels then\n",
    "y_pred = results.predict()"
   ]
  },
  {
   "cell_type": "code",
   "execution_count": 28,
   "metadata": {},
   "outputs": [
    {
     "data": {
      "text/html": [
       "\n",
       "        <iframe\n",
       "            width=\"100%\"\n",
       "            height=\"525px\"\n",
       "            src=\"https://plotly.com/~Empanator/276.embed\"\n",
       "            frameborder=\"0\"\n",
       "            allowfullscreen\n",
       "        ></iframe>\n",
       "        "
      ],
      "text/plain": [
       "<IPython.lib.display.IFrame at 0x1a665a51dc8>"
      ]
     },
     "execution_count": 28,
     "metadata": {},
     "output_type": "execute_result"
    }
   ],
   "source": [
    "fig = go.Figure()\n",
    "\n",
    "fig.add_trace(go.Scatter(x = df['Weight'], y = df['Size'], \n",
    "    name = 'Actual', \n",
    "    mode = 'markers',\n",
    "    marker=dict(size = 8),\n",
    "    hoverinfo = 'x+y+text',\n",
    "    line = dict(color = 'rgb(255, 255, 0)')))\n",
    "\n",
    "fig.add_trace(go.Scatter(x = df['Weight'], y = y_pred, \n",
    "    name = 'Predicted', \n",
    "    mode = 'lines',\n",
    "    marker=dict(size = 8),\n",
    "    hoverinfo = 'x+y+text',\n",
    "    line = dict(color = 'rgb(0, 255, 155)')))\n",
    "\n",
    "fig.update_layout(title_text = 'Linear regression', \n",
    "    title_x = 0.5,\n",
    "    title_y = 0.8,\n",
    "    autosize = True,\n",
    "    legend = dict(x = 0, y = 1.5),\n",
    "    xaxis_title = 'Mouse weight',\n",
    "    yaxis_title = 'Mouse size',\n",
    "    paper_bgcolor = 'rgba(1,1,1,1)',\n",
    "    plot_bgcolor = 'rgba(1,1,1,1)',\n",
    "    hoverlabel= dict(\n",
    "    font_size = 15, \n",
    "    font_family = 'Helvetica'),\n",
    "    font = dict(\n",
    "    family = 'Helvetica, Helvetica',\n",
    "    size = 15,\n",
    "    color = 'white'))\n",
    "\n",
    "fig.update_xaxes(ticks = 'outside', \n",
    "                 tickwidth = 2, \n",
    "                 tickcolor = 'black', \n",
    "                 ticklen = 10,\n",
    "                 showgrid = False,\n",
    "                 zeroline = False)\n",
    "\n",
    "fig.update_yaxes(ticks = 'outside', \n",
    "                 tickwidth = 2, \n",
    "                 tickcolor = 'black', \n",
    "                 ticklen = 10,\n",
    "                 showgrid = False,\n",
    "                 zeroline = False)\n",
    "\n",
    "py.iplot(fig, filename = 'Linear regression', auto_open = False)"
   ]
  },
  {
   "cell_type": "markdown",
   "metadata": {},
   "source": [
    "$$Y_i = b_0 + b_1 X_i + \\epsilon_i$$ <br/>"
   ]
  }
 ],
 "metadata": {
  "kernelspec": {
   "display_name": "Python 3",
   "language": "python",
   "name": "python3"
  },
  "language_info": {
   "codemirror_mode": {
    "name": "ipython",
    "version": 3
   },
   "file_extension": ".py",
   "mimetype": "text/x-python",
   "name": "python",
   "nbconvert_exporter": "python",
   "pygments_lexer": "ipython3",
   "version": "3.7.7"
  }
 },
 "nbformat": 4,
 "nbformat_minor": 4
}
