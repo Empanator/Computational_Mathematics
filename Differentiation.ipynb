{
 "cells": [
  {
   "cell_type": "markdown",
   "metadata": {},
   "source": [
    "<div class=\"alert alert-block alert-success\">\n",
    "<b>Imported libraries</b>\n",
    "</div>"
   ]
  },
  {
   "cell_type": "code",
   "execution_count": 1,
   "metadata": {},
   "outputs": [],
   "source": [
    "import sympy as sym\n",
    "\n",
    "from sympy import * "
   ]
  },
  {
   "cell_type": "markdown",
   "metadata": {},
   "source": [
    "<div class=\"alert alert-block alert-info\">\n",
    "<b>Create symbol</b>\n",
    "</div>"
   ]
  },
  {
   "cell_type": "code",
   "execution_count": 2,
   "metadata": {},
   "outputs": [],
   "source": [
    "x, y = sym.symbols('x y')"
   ]
  },
  {
   "cell_type": "markdown",
   "metadata": {},
   "source": [
    "<div class=\"alert alert-block alert-info\">\n",
    "<b>Make bold strings</b>\n",
    "</div>"
   ]
  },
  {
   "cell_type": "code",
   "execution_count": 3,
   "metadata": {},
   "outputs": [],
   "source": [
    "class style:\n",
    "   BOLD = '\\033[1m'\n",
    "   END = '\\033[0m'"
   ]
  },
  {
   "cell_type": "markdown",
   "metadata": {},
   "source": [
    "<div class=\"alert alert-block alert-info\">\n",
    "<b>Various types of functions and their derivatives</b>\n",
    "</div>"
   ]
  },
  {
   "cell_type": "code",
   "execution_count": 4,
   "metadata": {},
   "outputs": [
    {
     "name": "stdout",
     "output_type": "stream",
     "text": [
      "\u001b[1mThis is the equation:\u001b[0m\n"
     ]
    },
    {
     "data": {
      "text/latex": [
       "$\\displaystyle 3 x^{3} + 2 x^{2}$"
      ],
      "text/plain": [
       "3*x**3 + 2*x**2"
      ]
     },
     "metadata": {},
     "output_type": "display_data"
    },
    {
     "name": "stdout",
     "output_type": "stream",
     "text": [
      "\u001b[1mThis is the derivative:\u001b[0m\n"
     ]
    },
    {
     "data": {
      "text/latex": [
       "$\\displaystyle \\frac{d}{d x} \\left(3 x^{3} + 2 x^{2}\\right)$"
      ],
      "text/plain": [
       "Derivative(3*x**3 + 2*x**2, x)"
      ]
     },
     "metadata": {},
     "output_type": "display_data"
    },
    {
     "data": {
      "text/latex": [
       "$\\displaystyle 9 x^{2} + 4 x$"
      ],
      "text/plain": [
       "9*x**2 + 4*x"
      ]
     },
     "metadata": {},
     "output_type": "display_data"
    }
   ],
   "source": [
    "f = 3*x**3 + 2*x**2\n",
    "\n",
    "print(style.BOLD + 'This is the equation:' + style.END)\n",
    "display(f)\n",
    "print(style.BOLD + 'This is the derivative:' + style.END)\n",
    "display(sym.Derivative(f, x, 1))\n",
    "display(sym.diff(f, x, 1))"
   ]
  },
  {
   "cell_type": "code",
   "execution_count": 5,
   "metadata": {},
   "outputs": [
    {
     "name": "stdout",
     "output_type": "stream",
     "text": [
      "\u001b[1mThis is the equation:\u001b[0m\n"
     ]
    },
    {
     "data": {
      "text/latex": [
       "$\\displaystyle \\sin{\\left(2 x \\right)}$"
      ],
      "text/plain": [
       "sin(2*x)"
      ]
     },
     "metadata": {},
     "output_type": "display_data"
    },
    {
     "name": "stdout",
     "output_type": "stream",
     "text": [
      "\u001b[1mThis is the derivative:\u001b[0m\n"
     ]
    },
    {
     "data": {
      "text/latex": [
       "$\\displaystyle \\frac{d}{d x} \\sin{\\left(2 x \\right)}$"
      ],
      "text/plain": [
       "Derivative(sin(2*x), x)"
      ]
     },
     "metadata": {},
     "output_type": "display_data"
    },
    {
     "data": {
      "text/latex": [
       "$\\displaystyle 2 \\cos{\\left(2 x \\right)}$"
      ],
      "text/plain": [
       "2*cos(2*x)"
      ]
     },
     "metadata": {},
     "output_type": "display_data"
    }
   ],
   "source": [
    "f = sym.sin(2*x)\n",
    "\n",
    "print(style.BOLD + 'This is the equation:' + style.END)\n",
    "display(f)\n",
    "print(style.BOLD + 'This is the derivative:' + style.END)\n",
    "display(sym.Derivative(f, x, 1))\n",
    "display(sym.diff(f, x, 1))"
   ]
  },
  {
   "cell_type": "code",
   "execution_count": 6,
   "metadata": {},
   "outputs": [
    {
     "name": "stdout",
     "output_type": "stream",
     "text": [
      "\u001b[1mThis is the equation:\u001b[0m\n"
     ]
    },
    {
     "data": {
      "text/latex": [
       "$\\displaystyle \\left(x^{2} - 3 x + 5\\right)^{3}$"
      ],
      "text/plain": [
       "(x**2 - 3*x + 5)**3"
      ]
     },
     "metadata": {},
     "output_type": "display_data"
    },
    {
     "name": "stdout",
     "output_type": "stream",
     "text": [
      "\u001b[1mThis is the derivative:\u001b[0m\n"
     ]
    },
    {
     "data": {
      "text/latex": [
       "$\\displaystyle \\frac{d}{d x} \\left(x^{2} - 3 x + 5\\right)^{3}$"
      ],
      "text/plain": [
       "Derivative((x**2 - 3*x + 5)**3, x)"
      ]
     },
     "metadata": {},
     "output_type": "display_data"
    },
    {
     "data": {
      "text/latex": [
       "$\\displaystyle \\left(6 x - 9\\right) \\left(x^{2} - 3 x + 5\\right)^{2}$"
      ],
      "text/plain": [
       "(6*x - 9)*(x**2 - 3*x + 5)**2"
      ]
     },
     "metadata": {},
     "output_type": "display_data"
    }
   ],
   "source": [
    "f = (x**2 - 3*x + 5)**3\n",
    "\n",
    "print(style.BOLD + 'This is the equation:' + style.END)\n",
    "display(f)\n",
    "print(style.BOLD + 'This is the derivative:' + style.END)\n",
    "display(sym.Derivative(f, x, 1))\n",
    "display(sym.diff(f, x, 1))"
   ]
  },
  {
   "cell_type": "code",
   "execution_count": 7,
   "metadata": {},
   "outputs": [
    {
     "name": "stdout",
     "output_type": "stream",
     "text": [
      "\u001b[1mThis is the equation:\u001b[0m\n"
     ]
    },
    {
     "data": {
      "text/latex": [
       "$\\displaystyle x^{2} \\cos{\\left(x \\right)}$"
      ],
      "text/plain": [
       "x**2*cos(x)"
      ]
     },
     "metadata": {},
     "output_type": "display_data"
    },
    {
     "name": "stdout",
     "output_type": "stream",
     "text": [
      "\u001b[1mThis is the derivative:\u001b[0m\n"
     ]
    },
    {
     "data": {
      "text/latex": [
       "$\\displaystyle \\frac{d}{d x} x^{2} \\cos{\\left(x \\right)}$"
      ],
      "text/plain": [
       "Derivative(x**2*cos(x), x)"
      ]
     },
     "metadata": {},
     "output_type": "display_data"
    },
    {
     "data": {
      "text/latex": [
       "$\\displaystyle - x^{2} \\sin{\\left(x \\right)} + 2 x \\cos{\\left(x \\right)}$"
      ],
      "text/plain": [
       "-x**2*sin(x) + 2*x*cos(x)"
      ]
     },
     "metadata": {},
     "output_type": "display_data"
    }
   ],
   "source": [
    "f = x**2*sym.cos(x)\n",
    "\n",
    "print(style.BOLD + 'This is the equation:' + style.END)\n",
    "display(f)\n",
    "print(style.BOLD + 'This is the derivative:' + style.END)\n",
    "display(sym.Derivative(f, x, 1))\n",
    "display(sym.diff(f, x, 1))"
   ]
  },
  {
   "cell_type": "code",
   "execution_count": 8,
   "metadata": {},
   "outputs": [
    {
     "name": "stdout",
     "output_type": "stream",
     "text": [
      "\u001b[1mThis is the equation:\u001b[0m\n"
     ]
    },
    {
     "data": {
      "text/latex": [
       "$\\displaystyle \\operatorname{asin}^{2}{\\left(x \\right)}$"
      ],
      "text/plain": [
       "asin(x)**2"
      ]
     },
     "metadata": {},
     "output_type": "display_data"
    },
    {
     "name": "stdout",
     "output_type": "stream",
     "text": [
      "\u001b[1mThis is the derivative:\u001b[0m\n"
     ]
    },
    {
     "data": {
      "text/latex": [
       "$\\displaystyle \\frac{d}{d x} \\operatorname{asin}^{2}{\\left(x \\right)}$"
      ],
      "text/plain": [
       "Derivative(asin(x)**2, x)"
      ]
     },
     "metadata": {},
     "output_type": "display_data"
    },
    {
     "data": {
      "text/latex": [
       "$\\displaystyle \\frac{2 \\operatorname{asin}{\\left(x \\right)}}{\\sqrt{1 - x^{2}}}$"
      ],
      "text/plain": [
       "2*asin(x)/sqrt(1 - x**2)"
      ]
     },
     "metadata": {},
     "output_type": "display_data"
    }
   ],
   "source": [
    "f = sym.asin((x))**2\n",
    "\n",
    "print(style.BOLD + 'This is the equation:' + style.END)\n",
    "display(f)\n",
    "print(style.BOLD + 'This is the derivative:' + style.END)\n",
    "display(sym.Derivative(f, x, 1))\n",
    "display(sym.diff(f, x, 1))"
   ]
  },
  {
   "cell_type": "code",
   "execution_count": 9,
   "metadata": {},
   "outputs": [
    {
     "name": "stdout",
     "output_type": "stream",
     "text": [
      "\u001b[1mThis is the equation:\u001b[0m\n"
     ]
    },
    {
     "data": {
      "text/latex": [
       "$\\displaystyle \\operatorname{acos}{\\left(\\sqrt{2 x - 1} \\right)}$"
      ],
      "text/plain": [
       "acos(sqrt(2*x - 1))"
      ]
     },
     "metadata": {},
     "output_type": "display_data"
    },
    {
     "name": "stdout",
     "output_type": "stream",
     "text": [
      "\u001b[1mThis is the derivative:\u001b[0m\n"
     ]
    },
    {
     "data": {
      "text/latex": [
       "$\\displaystyle \\frac{d}{d x} \\operatorname{acos}{\\left(\\sqrt{2 x - 1} \\right)}$"
      ],
      "text/plain": [
       "Derivative(acos(sqrt(2*x - 1)), x)"
      ]
     },
     "metadata": {},
     "output_type": "display_data"
    },
    {
     "data": {
      "text/latex": [
       "$\\displaystyle - \\frac{1}{\\sqrt{2 - 2 x} \\sqrt{2 x - 1}}$"
      ],
      "text/plain": [
       "-1/(sqrt(2 - 2*x)*sqrt(2*x - 1))"
      ]
     },
     "metadata": {},
     "output_type": "display_data"
    }
   ],
   "source": [
    "f = sym.acos(sqrt(2*x - 1))\n",
    "\n",
    "print(style.BOLD + 'This is the equation:' + style.END)\n",
    "display(f)\n",
    "print(style.BOLD + 'This is the derivative:' + style.END)\n",
    "display(sym.Derivative(f, x, 1))\n",
    "display(sym.diff(f, x, 1))"
   ]
  },
  {
   "cell_type": "code",
   "execution_count": 10,
   "metadata": {},
   "outputs": [
    {
     "name": "stdout",
     "output_type": "stream",
     "text": [
      "\u001b[1mThis is the equation:\u001b[0m\n"
     ]
    },
    {
     "data": {
      "text/latex": [
       "$\\displaystyle \\operatorname{atan}{\\left(\\frac{x}{2} \\right)}$"
      ],
      "text/plain": [
       "atan(x/2)"
      ]
     },
     "metadata": {},
     "output_type": "display_data"
    },
    {
     "name": "stdout",
     "output_type": "stream",
     "text": [
      "\u001b[1mThis is the derivative:\u001b[0m\n"
     ]
    },
    {
     "data": {
      "text/latex": [
       "$\\displaystyle \\frac{d}{d x} \\operatorname{atan}{\\left(\\frac{x}{2} \\right)}$"
      ],
      "text/plain": [
       "Derivative(atan(x/2), x)"
      ]
     },
     "metadata": {},
     "output_type": "display_data"
    },
    {
     "data": {
      "text/latex": [
       "$\\displaystyle \\frac{1}{2 \\left(\\frac{x^{2}}{4} + 1\\right)}$"
      ],
      "text/plain": [
       "1/(2*(x**2/4 + 1))"
      ]
     },
     "metadata": {},
     "output_type": "display_data"
    }
   ],
   "source": [
    "f = sym.atan((x/2))\n",
    "\n",
    "print(style.BOLD + 'This is the equation:' + style.END)\n",
    "display(f)\n",
    "print(style.BOLD + 'This is the derivative:' + style.END)\n",
    "display(sym.Derivative(f, x, 1))\n",
    "display(sym.diff(f, x, 1))"
   ]
  },
  {
   "cell_type": "code",
   "execution_count": 11,
   "metadata": {},
   "outputs": [
    {
     "name": "stdout",
     "output_type": "stream",
     "text": [
      "\u001b[1mThis is the equation:\u001b[0m\n"
     ]
    },
    {
     "data": {
      "text/latex": [
       "$\\displaystyle \\log{\\left(2 x \\right)}^{\\log{\\left(2 x \\right)}}$"
      ],
      "text/plain": [
       "log(2*x)**log(2*x)"
      ]
     },
     "metadata": {},
     "output_type": "display_data"
    },
    {
     "name": "stdout",
     "output_type": "stream",
     "text": [
      "\u001b[1mThis is the derivative:\u001b[0m\n"
     ]
    },
    {
     "data": {
      "text/latex": [
       "$\\displaystyle \\frac{d}{d x} \\log{\\left(2 x \\right)}^{\\log{\\left(2 x \\right)}}$"
      ],
      "text/plain": [
       "Derivative(log(2*x)**log(2*x), x)"
      ]
     },
     "metadata": {},
     "output_type": "display_data"
    },
    {
     "data": {
      "text/latex": [
       "$\\displaystyle \\left(\\frac{\\log{\\left(\\log{\\left(2 x \\right)} \\right)}}{x} + \\frac{1}{x}\\right) \\log{\\left(2 x \\right)}^{\\log{\\left(2 x \\right)}}$"
      ],
      "text/plain": [
       "(log(log(2*x))/x + 1/x)*log(2*x)**log(2*x)"
      ]
     },
     "metadata": {},
     "output_type": "display_data"
    }
   ],
   "source": [
    "f = sym.ln(2*x)**sym.ln(2*x)\n",
    "\n",
    "print(style.BOLD + 'This is the equation:' + style.END)\n",
    "display(f)\n",
    "print(style.BOLD + 'This is the derivative:' + style.END)\n",
    "display(sym.Derivative(f, x, 1))\n",
    "display(sym.diff(f, x , 1))"
   ]
  },
  {
   "cell_type": "code",
   "execution_count": 12,
   "metadata": {
    "scrolled": true
   },
   "outputs": [
    {
     "name": "stdout",
     "output_type": "stream",
     "text": [
      "\u001b[1mThis is the equation:\u001b[0m\n"
     ]
    },
    {
     "data": {
      "text/latex": [
       "$\\displaystyle \\log{\\left(3 x^{2} - 5 x - 2 \\right)}^{\\sin{\\left(6 x^{2} + 3 x + 1 \\right)}}$"
      ],
      "text/plain": [
       "log(3*x**2 - 5*x - 2)**sin(6*x**2 + 3*x + 1)"
      ]
     },
     "metadata": {},
     "output_type": "display_data"
    },
    {
     "name": "stdout",
     "output_type": "stream",
     "text": [
      "\u001b[1mThis is the derivative:\u001b[0m\n"
     ]
    },
    {
     "data": {
      "text/latex": [
       "$\\displaystyle \\frac{d}{d x} \\log{\\left(3 x^{2} - 5 x - 2 \\right)}^{\\sin{\\left(6 x^{2} + 3 x + 1 \\right)}}$"
      ],
      "text/plain": [
       "Derivative(log(3*x**2 - 5*x - 2)**sin(6*x**2 + 3*x + 1), x)"
      ]
     },
     "metadata": {},
     "output_type": "display_data"
    },
    {
     "data": {
      "text/latex": [
       "$\\displaystyle \\left(\\frac{\\left(6 x - 5\\right) \\sin{\\left(6 x^{2} + 3 x + 1 \\right)}}{\\left(3 x^{2} - 5 x - 2\\right) \\log{\\left(3 x^{2} - 5 x - 2 \\right)}} + \\left(12 x + 3\\right) \\log{\\left(\\log{\\left(3 x^{2} - 5 x - 2 \\right)} \\right)} \\cos{\\left(6 x^{2} + 3 x + 1 \\right)}\\right) \\log{\\left(3 x^{2} - 5 x - 2 \\right)}^{\\sin{\\left(6 x^{2} + 3 x + 1 \\right)}}$"
      ],
      "text/plain": [
       "((6*x - 5)*sin(6*x**2 + 3*x + 1)/((3*x**2 - 5*x - 2)*log(3*x**2 - 5*x - 2)) + (12*x + 3)*log(log(3*x**2 - 5*x - 2))*cos(6*x**2 + 3*x + 1))*log(3*x**2 - 5*x - 2)**sin(6*x**2 + 3*x + 1)"
      ]
     },
     "metadata": {},
     "output_type": "display_data"
    }
   ],
   "source": [
    "f = sym.ln(3*x**2 - 5*x - 2)**(sym.sin(6*x**2 + 3*x + 1))\n",
    "\n",
    "print(style.BOLD + 'This is the equation:' + style.END)\n",
    "display(f)\n",
    "print(style.BOLD + 'This is the derivative:' + style.END)\n",
    "display(sym.Derivative(f, x, 1))\n",
    "display(sym.diff(f, x , 1))"
   ]
  },
  {
   "cell_type": "markdown",
   "metadata": {},
   "source": [
    "<div class=\"alert alert-block alert-info\">\n",
    "<b>It can solve with alternative equation (Last 2)</b>\n",
    "</div>"
   ]
  },
  {
   "cell_type": "code",
   "execution_count": 13,
   "metadata": {},
   "outputs": [
    {
     "name": "stdout",
     "output_type": "stream",
     "text": [
      "\u001b[1mThis is the equation:\u001b[0m\n"
     ]
    },
    {
     "data": {
      "text/latex": [
       "$\\displaystyle e^{\\log{\\left(2 x \\right)} \\log{\\left(\\log{\\left(2 x \\right)} \\right)}}$"
      ],
      "text/plain": [
       "exp(log(2*x)*log(log(2*x)))"
      ]
     },
     "metadata": {},
     "output_type": "display_data"
    },
    {
     "name": "stdout",
     "output_type": "stream",
     "text": [
      "\u001b[1mThis is the derivative:\u001b[0m\n"
     ]
    },
    {
     "data": {
      "text/latex": [
       "$\\displaystyle \\frac{d}{d x} e^{\\log{\\left(2 x \\right)} \\log{\\left(\\log{\\left(2 x \\right)} \\right)}}$"
      ],
      "text/plain": [
       "Derivative(exp(log(2*x)*log(log(2*x))), x)"
      ]
     },
     "metadata": {},
     "output_type": "display_data"
    },
    {
     "data": {
      "text/latex": [
       "$\\displaystyle \\left(\\frac{\\log{\\left(\\log{\\left(2 x \\right)} \\right)}}{x} + \\frac{1}{x}\\right) e^{\\log{\\left(2 x \\right)} \\log{\\left(\\log{\\left(2 x \\right)} \\right)}}$"
      ],
      "text/plain": [
       "(log(log(2*x))/x + 1/x)*exp(log(2*x)*log(log(2*x)))"
      ]
     },
     "metadata": {},
     "output_type": "display_data"
    }
   ],
   "source": [
    "f = sym.exp(sym.ln(2*x)*(sym.ln(sym.ln(2*x))))\n",
    "\n",
    "print(style.BOLD + 'This is the equation:' + style.END)\n",
    "display(f)\n",
    "print(style.BOLD + 'This is the derivative:' + style.END)\n",
    "display(sym.Derivative(f, x, 1))\n",
    "display(sym.diff(f, x, 1))"
   ]
  },
  {
   "cell_type": "code",
   "execution_count": 14,
   "metadata": {},
   "outputs": [
    {
     "name": "stdout",
     "output_type": "stream",
     "text": [
      "\u001b[1mThis is the equation:\u001b[0m\n"
     ]
    },
    {
     "data": {
      "text/latex": [
       "$\\displaystyle e^{\\log{\\left(\\log{\\left(3 x^{2} - 5 x - 2 \\right)} \\right)} \\sin{\\left(6 x^{2} + 3 x + 1 \\right)}}$"
      ],
      "text/plain": [
       "exp(log(log(3*x**2 - 5*x - 2))*sin(6*x**2 + 3*x + 1))"
      ]
     },
     "metadata": {},
     "output_type": "display_data"
    },
    {
     "name": "stdout",
     "output_type": "stream",
     "text": [
      "\u001b[1mThis is the derivative:\u001b[0m\n"
     ]
    },
    {
     "data": {
      "text/latex": [
       "$\\displaystyle \\frac{d}{d x} e^{\\log{\\left(\\log{\\left(3 x^{2} - 5 x - 2 \\right)} \\right)} \\sin{\\left(6 x^{2} + 3 x + 1 \\right)}}$"
      ],
      "text/plain": [
       "Derivative(exp(log(log(3*x**2 - 5*x - 2))*sin(6*x**2 + 3*x + 1)), x)"
      ]
     },
     "metadata": {},
     "output_type": "display_data"
    },
    {
     "data": {
      "text/latex": [
       "$\\displaystyle \\left(\\frac{\\left(6 x - 5\\right) \\sin{\\left(6 x^{2} + 3 x + 1 \\right)}}{\\left(3 x^{2} - 5 x - 2\\right) \\log{\\left(3 x^{2} - 5 x - 2 \\right)}} + \\left(12 x + 3\\right) \\log{\\left(\\log{\\left(3 x^{2} - 5 x - 2 \\right)} \\right)} \\cos{\\left(6 x^{2} + 3 x + 1 \\right)}\\right) e^{\\log{\\left(\\log{\\left(3 x^{2} - 5 x - 2 \\right)} \\right)} \\sin{\\left(6 x^{2} + 3 x + 1 \\right)}}$"
      ],
      "text/plain": [
       "((6*x - 5)*sin(6*x**2 + 3*x + 1)/((3*x**2 - 5*x - 2)*log(3*x**2 - 5*x - 2)) + (12*x + 3)*log(log(3*x**2 - 5*x - 2))*cos(6*x**2 + 3*x + 1))*exp(log(log(3*x**2 - 5*x - 2))*sin(6*x**2 + 3*x + 1))"
      ]
     },
     "metadata": {},
     "output_type": "display_data"
    }
   ],
   "source": [
    "f = sym.exp(sym.sin(6*x**2 + 3*x + 1)*sym.ln(sym.ln(3*x**2 - 5*x - 2)))\n",
    "\n",
    "print(style.BOLD + 'This is the equation:' + style.END)\n",
    "display(f)\n",
    "print(style.BOLD + 'This is the derivative:' + style.END)\n",
    "display(sym.Derivative(f, x, 1))\n",
    "display(sym.diff(f, x, 1))"
   ]
  },
  {
   "cell_type": "markdown",
   "metadata": {},
   "source": [
    "<div class=\"alert alert-block alert-info\">\n",
    "<b>Implicit Differentiation</b>\n",
    "</div>"
   ]
  },
  {
   "cell_type": "code",
   "execution_count": 15,
   "metadata": {},
   "outputs": [
    {
     "name": "stdout",
     "output_type": "stream",
     "text": [
      "\u001b[1mThis is the equation:\u001b[0m\n"
     ]
    },
    {
     "data": {
      "text/latex": [
       "$\\displaystyle x^{2} + y^{2}$"
      ],
      "text/plain": [
       "x**2 + y**2"
      ]
     },
     "metadata": {},
     "output_type": "display_data"
    },
    {
     "name": "stdout",
     "output_type": "stream",
     "text": [
      "\u001b[1mImplicit diffentiation of the derivative of y with respect to x:\u001b[0m\n"
     ]
    },
    {
     "data": {
      "text/latex": [
       "$\\displaystyle - \\frac{x}{y}$"
      ],
      "text/plain": [
       "-x/y"
      ]
     },
     "metadata": {},
     "output_type": "display_data"
    }
   ],
   "source": [
    "f = (x**2+y**2)\n",
    "\n",
    "print(style.BOLD + 'This is the equation:' + style.END)\n",
    "display(f)\n",
    "print(style.BOLD + 'Implicit diffentiation of the derivative of y with respect to x:' + style.END)\n",
    "display(sym.idiff(f, y, x))"
   ]
  },
  {
   "cell_type": "code",
   "execution_count": 16,
   "metadata": {},
   "outputs": [
    {
     "name": "stdout",
     "output_type": "stream",
     "text": [
      "\u001b[1mThis is the equation:\u001b[0m\n"
     ]
    },
    {
     "data": {
      "text/latex": [
       "$\\displaystyle x^{2} y + x y^{2} - 3 x$"
      ],
      "text/plain": [
       "x**2*y + x*y**2 - 3*x"
      ]
     },
     "metadata": {},
     "output_type": "display_data"
    },
    {
     "name": "stdout",
     "output_type": "stream",
     "text": [
      "\u001b[1mImplicit diffentiation of the derivative of y with respect to x:\u001b[0m\n"
     ]
    },
    {
     "data": {
      "text/latex": [
       "$\\displaystyle \\frac{- 2 x y - y^{2} + 3}{x \\left(x + 2 y\\right)}$"
      ],
      "text/plain": [
       "(-2*x*y - y**2 + 3)/(x*(x + 2*y))"
      ]
     },
     "metadata": {},
     "output_type": "display_data"
    }
   ],
   "source": [
    "f = (x**2*y+x*y**2-3*x)\n",
    "\n",
    "print(style.BOLD + 'This is the equation:' + style.END)\n",
    "display(f)\n",
    "print(style.BOLD + 'Implicit diffentiation of the derivative of y with respect to x:' + style.END)\n",
    "display(sym.idiff(f, y, x))"
   ]
  }
 ],
 "metadata": {
  "kernelspec": {
   "display_name": "Python 3",
   "language": "python",
   "name": "python3"
  },
  "language_info": {
   "codemirror_mode": {
    "name": "ipython",
    "version": 3
   },
   "file_extension": ".py",
   "mimetype": "text/x-python",
   "name": "python",
   "nbconvert_exporter": "python",
   "pygments_lexer": "ipython3",
   "version": "3.7.7"
  }
 },
 "nbformat": 4,
 "nbformat_minor": 2
}
