{
 "cells": [
  {
   "cell_type": "markdown",
   "metadata": {},
   "source": [
    "***Color manual***\n",
    "\n",
    "<div class=\"alert alert-block alert-success\">\n",
    "<b>Green - Libraries</b>\n",
    "</div>\n",
    "\n",
    "<div class=\"alert alert-block alert-info\">\n",
    "<b>Blue - Information</b>\n",
    "</div>\n",
    "\n",
    "<div class=\"alert alert-block alert-danger\">\n",
    "<b>Red - Problems</b>\n",
    "</div>\n",
    "\n",
    "***"
   ]
  },
  {
   "cell_type": "markdown",
   "metadata": {},
   "source": [
    "<div class=\"alert alert-block alert-success\">\n",
    "<b>Import libraries</b>\n",
    "</div>"
   ]
  },
  {
   "cell_type": "code",
   "execution_count": 1,
   "metadata": {},
   "outputs": [],
   "source": [
    "import sympy as sym\n",
    "\n",
    "from sympy import *\n",
    "\n",
    "# In the future to evaluate the partial differential equations\n",
    "from sympy.solvers.pde import checkpdesol"
   ]
  },
  {
   "cell_type": "markdown",
   "metadata": {},
   "source": [
    "<div class=\"alert alert-block alert-info\">\n",
    "<b>Symbols</b>\n",
    "</div>"
   ]
  },
  {
   "cell_type": "code",
   "execution_count": 2,
   "metadata": {},
   "outputs": [],
   "source": [
    "x, y, z = sym.symbols('x y z')"
   ]
  },
  {
   "cell_type": "markdown",
   "metadata": {},
   "source": [
    "<div class=\"alert alert-block alert-info\">\n",
    "<b>Functions</b>\n",
    "</div>"
   ]
  },
  {
   "cell_type": "code",
   "execution_count": 3,
   "metadata": {},
   "outputs": [],
   "source": [
    "fxy = Function('f')(x, y)\n",
    "\n",
    "# It dosen't support partial differential equation with more than two variables\n",
    "fxyz = Function('f')(x, y, z)"
   ]
  },
  {
   "cell_type": "markdown",
   "metadata": {},
   "source": [
    "<div class=\"alert alert-block alert-info\">\n",
    "<b>First order linear equations</b>\n",
    "</div>"
   ]
  },
  {
   "cell_type": "code",
   "execution_count": 4,
   "metadata": {},
   "outputs": [
    {
     "name": "stdout",
     "output_type": "stream",
     "text": [
      "This is the partial differential equation: \n"
     ]
    },
    {
     "data": {
      "text/latex": [
       "$\\displaystyle 1 + \\frac{2 \\frac{\\partial}{\\partial x} f{\\left(x,y \\right)}}{f{\\left(x,y \\right)}} + \\frac{3 \\frac{\\partial}{\\partial y} f{\\left(x,y \\right)}}{f{\\left(x,y \\right)}} = 0$"
      ],
      "text/plain": [
       "Eq(1 + 2*Derivative(f(x, y), x)/f(x, y) + 3*Derivative(f(x, y), y)/f(x, y), 0)"
      ]
     },
     "metadata": {},
     "output_type": "display_data"
    },
    {
     "name": "stdout",
     "output_type": "stream",
     "text": [
      "This is the general solution: \n"
     ]
    },
    {
     "data": {
      "text/latex": [
       "$\\displaystyle f{\\left(x,y \\right)} = F{\\left(3 x - 2 y \\right)} e^{- \\frac{2 x}{13} - \\frac{3 y}{13}}$"
      ],
      "text/plain": [
       "Eq(f(x, y), F(3*x - 2*y)*exp(-2*x/13 - 3*y/13))"
      ]
     },
     "metadata": {},
     "output_type": "display_data"
    }
   ],
   "source": [
    "pde = Eq(1 + (2*(sym.diff(fxy, x, 1)/fxy)) + (3*(sym.diff(fxy, y, 1)/fxy)), 0)\n",
    "\n",
    "print('This is the partial differential equation: ')\n",
    "display(pde)\n",
    "print('This is the general solution: ')\n",
    "display(pdsolve(pde))"
   ]
  },
  {
   "cell_type": "code",
   "execution_count": 5,
   "metadata": {},
   "outputs": [
    {
     "name": "stdout",
     "output_type": "stream",
     "text": [
      "This is the partial differential equation: \n"
     ]
    },
    {
     "data": {
      "text/latex": [
       "$\\displaystyle 2 \\frac{\\partial}{\\partial x} f{\\left(x,y \\right)} + \\frac{\\partial}{\\partial y} f{\\left(x,y \\right)} = 2 f{\\left(x,y \\right)}$"
      ],
      "text/plain": [
       "Eq(2*Derivative(f(x, y), x) + Derivative(f(x, y), y), 2*f(x, y))"
      ]
     },
     "metadata": {},
     "output_type": "display_data"
    },
    {
     "name": "stdout",
     "output_type": "stream",
     "text": [
      "This is the general solution: \n"
     ]
    },
    {
     "data": {
      "text/latex": [
       "$\\displaystyle f{\\left(x,y \\right)} = F{\\left(x - 2 y \\right)} e^{\\frac{4 x}{5} + \\frac{2 y}{5}}$"
      ],
      "text/plain": [
       "Eq(f(x, y), F(x - 2*y)*exp(4*x/5 + 2*y/5))"
      ]
     },
     "metadata": {},
     "output_type": "display_data"
    }
   ],
   "source": [
    "pde = Eq((2*(sym.diff(fxy, x, 1)) + sym.diff(fxy, y, 1)), 2*fxy)\n",
    "\n",
    "print('This is the partial differential equation: ')\n",
    "display(pde)\n",
    "print('This is the general solution: ')\n",
    "display(pdsolve(pde))"
   ]
  }
 ],
 "metadata": {
  "kernelspec": {
   "display_name": "Python 3",
   "language": "python",
   "name": "python3"
  },
  "language_info": {
   "codemirror_mode": {
    "name": "ipython",
    "version": 3
   },
   "file_extension": ".py",
   "mimetype": "text/x-python",
   "name": "python",
   "nbconvert_exporter": "python",
   "pygments_lexer": "ipython3",
   "version": "3.7.7"
  }
 },
 "nbformat": 4,
 "nbformat_minor": 4
}
