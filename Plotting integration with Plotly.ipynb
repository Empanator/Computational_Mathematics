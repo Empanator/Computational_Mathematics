{
 "cells": [
  {
   "cell_type": "markdown",
   "metadata": {},
   "source": [
    "***Color manual***\n",
    "\n",
    "<div class=\"alert alert-block alert-success\">\n",
    "<b>Green - Libraries</b>\n",
    "</div>\n",
    "\n",
    "<div class=\"alert alert-block alert-info\">\n",
    "<b>Blue - Information</b>\n",
    "</div>\n",
    "\n",
    "<div class=\"alert alert-block alert-danger\">\n",
    "<b>Red - Problems</b>\n",
    "</div>\n",
    "\n",
    "***"
   ]
  },
  {
   "cell_type": "markdown",
   "metadata": {},
   "source": [
    "<div class=\"alert alert-block alert-success\">\n",
    "<b>Import libraries</b>\n",
    "</div>"
   ]
  },
  {
   "cell_type": "code",
   "execution_count": 1,
   "metadata": {},
   "outputs": [],
   "source": [
    "import numpy as np\n",
    "import chart_studio\n",
    "import sympy as sym\n",
    "import plotly.graph_objs as go\n",
    "import chart_studio.plotly as py\n",
    "\n",
    "from sympy import *\n",
    "\n",
    "chart_studio.tools.set_config_file(world_readable = True, sharing = 'public')"
   ]
  },
  {
   "cell_type": "markdown",
   "metadata": {},
   "source": [
    "<div class=\"alert alert-block alert-info\">\n",
    "<b>Create symbol</b>\n",
    "</div>"
   ]
  },
  {
   "cell_type": "code",
   "execution_count": 2,
   "metadata": {},
   "outputs": [],
   "source": [
    "x = sym.Symbol('x')"
   ]
  },
  {
   "cell_type": "markdown",
   "metadata": {},
   "source": [
    "<div class=\"alert alert-block alert-info\">\n",
    "<b>Easy plot of both the function and their indefinite integral (Plotly)</b>\n",
    "</div>"
   ]
  },
  {
   "cell_type": "code",
   "execution_count": 3,
   "metadata": {},
   "outputs": [
    {
     "data": {
      "text/html": [
       "\n",
       "        <iframe\n",
       "            width=\"100%\"\n",
       "            height=\"525px\"\n",
       "            src=\"https://plotly.com/~Empanator/77.embed\"\n",
       "            frameborder=\"0\"\n",
       "            allowfullscreen\n",
       "        ></iframe>\n",
       "        "
      ],
      "text/plain": [
       "<IPython.lib.display.IFrame at 0x1d66df9cd08>"
      ]
     },
     "execution_count": 3,
     "metadata": {},
     "output_type": "execute_result"
    }
   ],
   "source": [
    "f = x**2 + 1\n",
    "\n",
    "equation = lambdify(x, f, modules = ['numpy'])\n",
    "\n",
    "xvals = np.linspace(0, 5)\n",
    "\n",
    "fig = go.Figure()\n",
    "\n",
    "fig.add_trace(go.Scatter(x = xvals, y = equation(xvals), \n",
    "    name = r'$x^2+1$', \n",
    "    mode = 'lines',\n",
    "    hoverinfo = 'x+y+text',\n",
    "    line = dict(color = 'rgb(150, 150, 255)', width = 5)))\n",
    "\n",
    "fig.add_trace(go.Scatter(x = xvals, y = equation(xvals), \n",
    "    name = r'$\\int(x^2+1)dx$', \n",
    "    mode = 'lines', \n",
    "    hoverinfo = 'x+y+text',\n",
    "    fill='tozeroy',\n",
    "    fillcolor = 'rgba(150, 225, 180, 0.5)',\n",
    "    line = dict(color = 'rgba(150, 225, 180, 0.5)', width = 5)))\n",
    "\n",
    "fig.update_layout(legend = dict(x = .0, y = 1.3),\n",
    "    legend_title='<b> Equations </b>',\n",
    "    xaxis_title = 'X - Values',\n",
    "    yaxis_title = 'Y - Values',\n",
    "    paper_bgcolor = 'rgba(1,1,1,1)',\n",
    "    plot_bgcolor = 'rgba(255,255,255,255)',\n",
    "    hoverlabel= dict(\n",
    "    font_size = 15, \n",
    "    font_family = 'Helvetica'),\n",
    "    font = dict(\n",
    "    family = 'Helvetica, Helvetica',\n",
    "    size = 15,\n",
    "    color = 'white'))\n",
    "\n",
    "fig.update_xaxes(hoverformat = '.3f', \n",
    "                 dtick = 1, \n",
    "                 ticks = 'outside', \n",
    "                 tickwidth = 2, \n",
    "                 tickcolor = 'black', \n",
    "                 ticklen = 10,\n",
    "                 showgrid = False,\n",
    "                 zeroline = False,\n",
    "                 range=[0, 5])\n",
    "\n",
    "fig.update_yaxes(hoverformat = '.3f', \n",
    "                 dtick = 5, \n",
    "                 ticks = 'outside', \n",
    "                 tickwidth = 2, \n",
    "                 tickcolor = 'black', \n",
    "                 ticklen = 10,\n",
    "                 showgrid = False,\n",
    "                 zeroline = False,\n",
    "                 range=[0, 25])\n",
    "\n",
    "py.iplot(fig, filename = 'Plotting indefinite integral', auto_open = False)"
   ]
  },
  {
   "cell_type": "markdown",
   "metadata": {},
   "source": [
    "<div class=\"alert alert-block alert-info\">\n",
    "<b>Harder plot of both the function and their definite integral (Plotly)</b>\n",
    "</div>"
   ]
  },
  {
   "cell_type": "code",
   "execution_count": 4,
   "metadata": {},
   "outputs": [
    {
     "data": {
      "text/html": [
       "\n",
       "        <iframe\n",
       "            width=\"100%\"\n",
       "            height=\"525px\"\n",
       "            src=\"https://plotly.com/~Empanator/79.embed\"\n",
       "            frameborder=\"0\"\n",
       "            allowfullscreen\n",
       "        ></iframe>\n",
       "        "
      ],
      "text/plain": [
       "<IPython.lib.display.IFrame at 0x1d66e666b48>"
      ]
     },
     "execution_count": 4,
     "metadata": {},
     "output_type": "execute_result"
    }
   ],
   "source": [
    "f = sym.sin(0.2*x) + sym.sin(2*x) + 1\n",
    "\n",
    "equation = lambdify(x, f, modules = ['numpy'])\n",
    "\n",
    "xaxis = np.linspace(0, 2*np.pi, 100)\n",
    "\n",
    "xvals = np.linspace(np.pi/2, 3*np.pi/2)\n",
    "\n",
    "fig = go.Figure()\n",
    "\n",
    "fig.add_trace(go.Scatter(x = xaxis, y = equation(xaxis), \n",
    "    name = r'$\\sin(0.2 x) + \\sin(2x) + 1$',\n",
    "    mode = 'lines', \n",
    "    hoverinfo = 'x+y+text',\n",
    "    line = dict(color = 'rgb(150, 150, 255)', width = 5)))\n",
    "\n",
    "fig.add_trace(go.Scatter(x = xvals, y = equation(xvals), \n",
    "    name = r'$\\int_{\\pi/2}^{3\\pi/2} \\left( \\sin(0.2 x) + \\sin(2x) + 1\\right)dx$',\n",
    "    mode = 'lines', \n",
    "    hoverinfo = 'x+y+text',\n",
    "    fill='tozeroy',\n",
    "    fillcolor = 'rgba(150, 225, 180, 0.5)',\n",
    "    line = dict(color = 'rgba(150, 225, 180, 0.5)', width = 5)))\n",
    "    \n",
    "\n",
    "fig.update_layout(xaxis = dict(tickmode = 'array',\n",
    "    tickvals = [np.pi/2, 3*np.pi/2],\n",
    "    ticktext = ['$\\pi/2$','$3\\pi/2$']),\n",
    "    title = '$$',\n",
    "    xaxis_title = 'X - Values',\n",
    "    yaxis_title = 'Y - Values',\n",
    "    legend = dict(x = .0, y = 1.3),\n",
    "    legend_title='<b> Equations </b>',\n",
    "    paper_bgcolor = 'rgba(1,1,1,1)',\n",
    "    plot_bgcolor = 'rgba(255,255,255,255)',\n",
    "    hoverlabel= dict(\n",
    "    font_size = 15, \n",
    "    font_family = 'Helvetica'),\n",
    "    font = dict(\n",
    "    family = 'Helvetica, Helvetica',\n",
    "    size = 15,\n",
    "    color = 'white'))\n",
    "\n",
    "fig.update_xaxes(hoverformat = '.3f', \n",
    "                 dtick = 0, \n",
    "                 ticks = 'outside', \n",
    "                 tickwidth = 2, \n",
    "                 tickcolor = 'black', \n",
    "                 ticklen = 10,\n",
    "                 showgrid = False,\n",
    "                 zeroline = False,\n",
    "                 range=[0,2*np.pi])\n",
    "\n",
    "fig.update_yaxes(hoverformat = '.3f', \n",
    "                 dtick = 0.5, \n",
    "                 ticks = 'outside', \n",
    "                 tickwidth = 2, \n",
    "                 tickcolor = 'black', \n",
    "                 ticklen = 10,\n",
    "                 showgrid = False,\n",
    "                 zeroline = False,\n",
    "                 range=[0, 3])\n",
    "\n",
    "py.iplot(fig, filename = 'Plotting definite integral', auto_open = False)"
   ]
  }
 ],
 "metadata": {
  "kernelspec": {
   "display_name": "Python 3",
   "language": "python",
   "name": "python3"
  },
  "language_info": {
   "codemirror_mode": {
    "name": "ipython",
    "version": 3
   },
   "file_extension": ".py",
   "mimetype": "text/x-python",
   "name": "python",
   "nbconvert_exporter": "python",
   "pygments_lexer": "ipython3",
   "version": "3.7.7"
  }
 },
 "nbformat": 4,
 "nbformat_minor": 4
}
