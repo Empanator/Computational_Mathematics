{
 "cells": [
  {
   "cell_type": "markdown",
   "metadata": {},
   "source": [
    "***Color manual***\n",
    "\n",
    "<div class=\"alert alert-block alert-success\">\n",
    "<b>Green - Libraries</b>\n",
    "</div>\n",
    "\n",
    "<div class=\"alert alert-block alert-info\">\n",
    "<b>Blue - Information</b>\n",
    "</div>\n",
    "\n",
    "<div class=\"alert alert-block alert-danger\">\n",
    "<b>Red - Problems</b>\n",
    "</div>\n",
    "\n",
    "***"
   ]
  },
  {
   "cell_type": "markdown",
   "metadata": {},
   "source": [
    "<div class=\"alert alert-block alert-success\">\n",
    "<b>Import libraries</b>\n",
    "</div>"
   ]
  },
  {
   "cell_type": "code",
   "execution_count": 1,
   "metadata": {},
   "outputs": [],
   "source": [
    "import chart_studio\n",
    "import sympy as sym\n",
    "import plotly.graph_objs as go\n",
    "import chart_studio.plotly as py\n",
    "\n",
    "from sympy import *\n",
    "from numpy import linspace\n",
    "\n",
    "chart_studio.tools.set_config_file(world_readable = True, sharing = 'public')"
   ]
  },
  {
   "cell_type": "markdown",
   "metadata": {},
   "source": [
    "<div class=\"alert alert-block alert-info\">\n",
    "<b>Create symbols (Both works)</b>\n",
    "</div>"
   ]
  },
  {
   "cell_type": "code",
   "execution_count": 2,
   "metadata": {},
   "outputs": [],
   "source": [
    "x, y, z = sym.symbols('x y z')"
   ]
  },
  {
   "cell_type": "markdown",
   "metadata": {},
   "source": [
    "<div class=\"alert alert-block alert-info\">\n",
    "<b>Create a function, take the derivative and create the x range values</b>\n",
    "</div>"
   ]
  },
  {
   "cell_type": "code",
   "execution_count": 3,
   "metadata": {},
   "outputs": [],
   "source": [
    "f = 3*x**2 + 2*x - 1\n",
    "\n",
    "fdiff = sym.diff(f, x, 1)\n",
    "\n",
    "fx = lambdify(x, f, modules = ['numpy'])\n",
    "\n",
    "fxdiff = lambdify(x, fdiff, modules = ['numpy'])\n",
    "\n",
    "xvals = linspace(-10, 10, 50)"
   ]
  },
  {
   "cell_type": "markdown",
   "metadata": {},
   "source": [
    "<div class=\"alert alert-block alert-info\">\n",
    "<b>Plot both the function and their derivative</b>\n",
    "</div>"
   ]
  },
  {
   "cell_type": "code",
   "execution_count": 4,
   "metadata": {},
   "outputs": [
    {
     "data": {
      "text/html": [
       "\n",
       "        <iframe\n",
       "            width=\"100%\"\n",
       "            height=\"525px\"\n",
       "            src=\"https://plotly.com/~Empanator/19.embed\"\n",
       "            frameborder=\"0\"\n",
       "            allowfullscreen\n",
       "        ></iframe>\n",
       "        "
      ],
      "text/plain": [
       "<IPython.lib.display.IFrame at 0x24bf3218d88>"
      ]
     },
     "execution_count": 4,
     "metadata": {},
     "output_type": "execute_result"
    }
   ],
   "source": [
    "fig = go.Figure()\n",
    "\n",
    "fig.add_trace(go.Scatter(x = xvals, y = fx(xvals), \n",
    "    name = '$f(x) = 3x^2 + 2x - 111$', \n",
    "    mode = 'lines+markers', \n",
    "    hoverinfo = 'x+y+text'))\n",
    "\n",
    "fig.add_trace(go.Scatter(x = xvals, y = fxdiff(xvals), \n",
    "    name = '$d/dx = 6x + 2$', \n",
    "    mode = 'lines+markers', \n",
    "    hoverinfo = 'x+y+text'))\n",
    "\n",
    "fig.update_layout(legend = dict(x = .0, y = 1.3),\n",
    "    legend_title='<b> Functions </b>',\n",
    "    xaxis_title = 'X - Values',\n",
    "    yaxis_title = 'Y - Values',\n",
    "    paper_bgcolor = 'rgba(1,1,1,1)',\n",
    "    plot_bgcolor = 'rgba(255,255,255,255)',\n",
    "    hoverlabel= dict(\n",
    "    bgcolor = 'black', \n",
    "    font_size = 15, \n",
    "    font_family = 'Helvetica'),\n",
    "    font = dict(\n",
    "    family = 'Helvetica, Helvetica',\n",
    "    size = 15,\n",
    "    color = 'white'))\n",
    "\n",
    "fig.update_xaxes(hoverformat = '.3f', \n",
    "                 dtick = 2, \n",
    "                 ticks = 'outside', \n",
    "                 tickwidth = 2, \n",
    "                 tickcolor = 'black', \n",
    "                 ticklen = 10,\n",
    "                 showgrid = False,\n",
    "                 zeroline = False)\n",
    "\n",
    "fig.update_yaxes(hoverformat = '.3f', \n",
    "                 dtick = 50, \n",
    "                 ticks = 'outside', \n",
    "                 tickwidth = 2, \n",
    "                 tickcolor = 'black', \n",
    "                 ticklen = 10,\n",
    "                 showgrid = False,\n",
    "                 zeroline = False)\n",
    "\n",
    "py.iplot(fig, filename = 'Plotting differentiation', auto_open = True)"
   ]
  }
 ],
 "metadata": {
  "kernelspec": {
   "display_name": "Python 3",
   "language": "python",
   "name": "python3"
  },
  "language_info": {
   "codemirror_mode": {
    "name": "ipython",
    "version": 3
   },
   "file_extension": ".py",
   "mimetype": "text/x-python",
   "name": "python",
   "nbconvert_exporter": "python",
   "pygments_lexer": "ipython3",
   "version": "3.7.7"
  }
 },
 "nbformat": 4,
 "nbformat_minor": 2
}
