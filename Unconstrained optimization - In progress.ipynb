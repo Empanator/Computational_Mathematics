{
 "cells": [
  {
   "cell_type": "markdown",
   "metadata": {},
   "source": [
    "<div class=\"alert alert-block alert-success\">\n",
    "<b>Imported libraries</b>\n",
    "</div>"
   ]
  },
  {
   "cell_type": "code",
   "execution_count": 1,
   "metadata": {},
   "outputs": [],
   "source": [
    "import numpy as np\n",
    "from scipy.optimize import minimize\n",
    "from scipy.optimize import minimize_scalar"
   ]
  },
  {
   "cell_type": "markdown",
   "metadata": {},
   "source": [
    "<div class=\"alert alert-block alert-info\">\n",
    "<b>Univariate Function (Multiple ways)</b>\n",
    "</div>"
   ]
  },
  {
   "cell_type": "code",
   "execution_count": 2,
   "metadata": {},
   "outputs": [
    {
     "name": "stdout",
     "output_type": "stream",
     "text": [
      "At [1.00000002] the minimum is -6.9999999999999964\n",
      "When x = 1, then y = 20\n"
     ]
    }
   ],
   "source": [
    "# To get a maximum\n",
    "f = lambda x: 2*x**3 + 3*x**2 - 12*x\n",
    "res = minimize(lambda x: f(x), 0)\n",
    "print('At {} the minimum is {}'.format(res.x, res.fun))\n",
    "print('When x = 1, then y =', f(-2))"
   ]
  },
  {
   "cell_type": "code",
   "execution_count": 3,
   "metadata": {},
   "outputs": [
    {
     "name": "stdout",
     "output_type": "stream",
     "text": [
      "At [-2.00000002] the maximum is -20.0\n",
      "When x = -2, then y = 20\n"
     ]
    }
   ],
   "source": [
    "# To get a maximum\n",
    "f = lambda x: 2*x**3 + 3*x**2 - 12*x\n",
    "res = minimize(lambda x: -f(x), 0)\n",
    "print('At {} the maximum is {}'.format(res.x, res.fun))\n",
    "print('When x = -2, then y =', f(-2))"
   ]
  },
  {
   "cell_type": "markdown",
   "metadata": {},
   "source": [
    "<div class=\"alert alert-block alert-info\">\n",
    "<b>Other way</b>\n",
    "</div>"
   ]
  },
  {
   "cell_type": "code",
   "execution_count": 4,
   "metadata": {},
   "outputs": [
    {
     "name": "stdout",
     "output_type": "stream",
     "text": [
      "At [1.00000002] the minimum is -6.9999999999999964\n",
      "When x = 1, then y = 20\n"
     ]
    }
   ],
   "source": [
    "# To get a minimum\n",
    "def f(x):\n",
    "    return 2*x**3 + 3*x**2 - 12*x\n",
    "res = minimize(f, x0 = 0)\n",
    "print('At {} the minimum is {}'.format(res.x, res.fun))\n",
    "print('When x = 1, then y =', f(-2))"
   ]
  },
  {
   "cell_type": "code",
   "execution_count": 5,
   "metadata": {},
   "outputs": [
    {
     "name": "stdout",
     "output_type": "stream",
     "text": [
      "At [-2.00000002] the maximum is -20.0\n",
      "When x = -2, then y = -20\n"
     ]
    }
   ],
   "source": [
    "# To get a maximum\n",
    "def f(x):\n",
    "    return -(2*x**3 + 3*x**2 - 12*x)\n",
    "res = minimize(f, x0 = 0)\n",
    "print('At {} the maximum is {}'.format(res.x, res.fun))\n",
    "print('When x = -2, then y =', f(-2))"
   ]
  },
  {
   "cell_type": "markdown",
   "metadata": {},
   "source": [
    "<div class=\"alert alert-block alert-info\">\n",
    "<b>Multivariable Functions (Multiple ways) - Warning: Need to compute some derivatives before to know the result</b>\n",
    "</div>"
   ]
  },
  {
   "cell_type": "code",
   "execution_count": 6,
   "metadata": {},
   "outputs": [
    {
     "name": "stdout",
     "output_type": "stream",
     "text": [
      "At [1. 1.] the minimum is 8.0\n"
     ]
    }
   ],
   "source": [
    "# Needs to\n",
    "f = lambda x: (2*x[0]**4 + 2*x[1]**4 - 8*x[0]*x[1] + 12)\n",
    "res = minimize(f, x0 = (1, 1))\n",
    "print('At {} the minimum is {}'.format(res.x, res.fun))"
   ]
  },
  {
   "cell_type": "code",
   "execution_count": 7,
   "metadata": {},
   "outputs": [
    {
     "name": "stdout",
     "output_type": "stream",
     "text": [
      "At [1. 1.] there is other minimum equal to -8.0\n"
     ]
    }
   ],
   "source": [
    "# Needs to\n",
    "f = lambda x: -1 * (2*x[0]**4 + 2*x[1]**4 - 8*x[0]*x[1] + 12)\n",
    "res = minimize(f, x0 = (1, 1))\n",
    "print('At {} there is other minimum equal to {}'.format(res.x, res.fun))"
   ]
  },
  {
   "cell_type": "markdown",
   "metadata": {},
   "source": [
    "<div class=\"alert alert-block alert-info\">\n",
    "<b>Other way</b>\n",
    "</div>"
   ]
  },
  {
   "cell_type": "code",
   "execution_count": 8,
   "metadata": {},
   "outputs": [
    {
     "name": "stdout",
     "output_type": "stream",
     "text": [
      "At [1. 1.] the minimum is 8.0\n"
     ]
    }
   ],
   "source": [
    "# To get a minimum\n",
    "def f(x): \n",
    "    x1 = x[0]\n",
    "    x2 = x[1]\n",
    "    return 2*x1**4 + 2*x2**4 - 8*x1*x2 + 12\n",
    "res = minimize(f, x0 = (1, 1))\n",
    "print('At {} the minimum is {}'.format(res.x, res.fun))"
   ]
  },
  {
   "cell_type": "code",
   "execution_count": 9,
   "metadata": {},
   "outputs": [
    {
     "name": "stdout",
     "output_type": "stream",
     "text": [
      "At [1. 1.] there is other minimum equal to -8.0\n"
     ]
    }
   ],
   "source": [
    "# To get a minimum\n",
    "def f(x):\n",
    "    sign = -1\n",
    "    x1 = x[0]\n",
    "    x2 = x[1]\n",
    "    return sign * (2*x1**4 + 2*x2**4 - 8*x1*x2 + 12)\n",
    "res = minimize(f, x0 = (1, 1))\n",
    "print('At {} there is other minimum equal to {}'.format(res.x, res.fun))"
   ]
  }
 ],
 "metadata": {
  "kernelspec": {
   "display_name": "Python 3",
   "language": "python",
   "name": "python3"
  },
  "language_info": {
   "codemirror_mode": {
    "name": "ipython",
    "version": 3
   },
   "file_extension": ".py",
   "mimetype": "text/x-python",
   "name": "python",
   "nbconvert_exporter": "python",
   "pygments_lexer": "ipython3",
   "version": "3.7.7"
  }
 },
 "nbformat": 4,
 "nbformat_minor": 4
}
