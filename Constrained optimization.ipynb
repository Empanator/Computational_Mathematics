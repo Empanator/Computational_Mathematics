{
 "cells": [
  {
   "cell_type": "markdown",
   "metadata": {},
   "source": [
    "<div class=\"alert alert-block alert-success\">\n",
    "<b>Imported libraries</b>\n",
    "</div>"
   ]
  },
  {
   "cell_type": "code",
   "execution_count": 1,
   "metadata": {},
   "outputs": [],
   "source": [
    "import numpy as np\n",
    "import cvxpy as cp\n",
    "import sympy as sym\n",
    "import autograd.numpy as np\n",
    "\n",
    "from sympy import * \n",
    "from autograd import grad\n",
    "from scipy.optimize import minimize"
   ]
  },
  {
   "cell_type": "markdown",
   "metadata": {},
   "source": [
    "<div class=\"alert alert-block alert-info\">\n",
    "<b>Symbols</b>\n",
    "</div>"
   ]
  },
  {
   "cell_type": "code",
   "execution_count": 2,
   "metadata": {},
   "outputs": [],
   "source": [
    "x, y, l, L, k = sym.symbols('x y l L k')"
   ]
  },
  {
   "cell_type": "markdown",
   "metadata": {},
   "source": [
    "<div class=\"alert alert-block alert-info\">\n",
    "<b>Objective and constraint functions</b>\n",
    "</div>"
   ]
  },
  {
   "cell_type": "code",
   "execution_count": 3,
   "metadata": {
    "scrolled": true
   },
   "outputs": [
    {
     "data": {
      "text/latex": [
       "$\\displaystyle 6 x^{2} + 3 x - 11 y^{2}$"
      ],
      "text/plain": [
       "6*x**2 + 3*x - 11*y**2"
      ]
     },
     "metadata": {},
     "output_type": "display_data"
    },
    {
     "data": {
      "text/latex": [
       "$\\displaystyle 5 x^{2} + 2 x - 10 y^{2}$"
      ],
      "text/plain": [
       "5*x**2 + 2*x - 10*y**2"
      ]
     },
     "metadata": {},
     "output_type": "display_data"
    },
    {
     "data": {
      "text/latex": [
       "$\\displaystyle - L \\left(5 x^{2} + 2 x - 10 y^{2}\\right) + 6 x^{2} + 3 x - 11 y^{2}$"
      ],
      "text/plain": [
       "-L*(5*x**2 + 2*x - 10*y**2) + 6*x**2 + 3*x - 11*y**2"
      ]
     },
     "metadata": {},
     "output_type": "display_data"
    }
   ],
   "source": [
    "f = 6*x**2 + 3*x - 11*y**2\n",
    "g = 5*x**2 + 2*x - 10*y**2\n",
    "lam = f - L * g\n",
    "\n",
    "\n",
    "display(f)\n",
    "display(g)\n",
    "display(lam)"
   ]
  },
  {
   "cell_type": "markdown",
   "metadata": {},
   "source": [
    "<div class=\"alert alert-block alert-info\">\n",
    "<b>Compute KKT conditions</b>\n",
    "</div>"
   ]
  },
  {
   "cell_type": "code",
   "execution_count": 4,
   "metadata": {},
   "outputs": [
    {
     "data": {
      "text/plain": [
       "[0, 0, 5*x**2 + 2*x - 10*y**2]"
      ]
     },
     "execution_count": 4,
     "metadata": {},
     "output_type": "execute_result"
    }
   ],
   "source": [
    "gradL = [sym.diff(L,c) for c in [x,y]] # gradient of Lagrangian w.r.t. (x,y)\n",
    "KKT_eqs = gradL + [g]\n",
    "KKT_eqs"
   ]
  },
  {
   "cell_type": "markdown",
   "metadata": {},
   "source": [
    "<div class=\"alert alert-block alert-info\">\n",
    "<b>Potential minimizers</b>\n",
    "</div>"
   ]
  },
  {
   "cell_type": "code",
   "execution_count": 5,
   "metadata": {},
   "outputs": [
    {
     "data": {
      "text/plain": [
       "[{x: -sqrt(50*y**2 + 1)/5 - 1/5}, {x: sqrt(50*y**2 + 1)/5 - 1/5}]"
      ]
     },
     "execution_count": 5,
     "metadata": {},
     "output_type": "execute_result"
    }
   ],
   "source": [
    "stationary_points = sym.solve(KKT_eqs, [x, y, L], dict = True) # solve the KKT equations\n",
    "stationary_points "
   ]
  },
  {
   "cell_type": "markdown",
   "metadata": {},
   "source": [
    "<div class=\"alert alert-block alert-info\">\n",
    "<b>Use the objective function for each point to determine the minimum</b>\n",
    "</div>"
   ]
  },
  {
   "cell_type": "code",
   "execution_count": 6,
   "metadata": {},
   "outputs": [
    {
     "data": {
      "text/plain": [
       "[-11*y**2 - 3*sqrt(50*y**2 + 1)/5 + 6*(-sqrt(50*y**2 + 1)/5 - 1/5)**2 - 3/5,\n",
       " -11*y**2 + 3*sqrt(50*y**2 + 1)/5 + 6*(sqrt(50*y**2 + 1)/5 - 1/5)**2 - 3/5]"
      ]
     },
     "execution_count": 6,
     "metadata": {},
     "output_type": "execute_result"
    }
   ],
   "source": [
    "[f.subs(p) for p in stationary_points]"
   ]
  },
  {
   "cell_type": "markdown",
   "metadata": {},
   "source": [
    "<div class=\"alert alert-block alert-info\">\n",
    "<b>Simple way</b>\n",
    "</div>"
   ]
  },
  {
   "cell_type": "code",
   "execution_count": 7,
   "metadata": {},
   "outputs": [
    {
     "name": "stdout",
     "output_type": "stream",
     "text": [
      "Objective:\n"
     ]
    },
    {
     "data": {
      "text/latex": [
       "$\\displaystyle - 2 l x + 3 x^{2} = 0$"
      ],
      "text/plain": [
       "Eq(-2*l*x + 3*x**2, 0)"
      ]
     },
     "metadata": {},
     "output_type": "display_data"
    },
    {
     "name": "stdout",
     "output_type": "stream",
     "text": [
      "Subject to:\n"
     ]
    },
    {
     "data": {
      "text/latex": [
       "$\\displaystyle x^{2} + y^{2} = 1$"
      ],
      "text/plain": [
       "Eq(x**2 + y**2, 1)"
      ]
     },
     "metadata": {},
     "output_type": "display_data"
    },
    {
     "name": "stdout",
     "output_type": "stream",
     "text": [
      "Possible results:\n"
     ]
    },
    {
     "data": {
      "text/plain": [
       "[(-1, 0, -3/2),\n",
       " (0, -1, -3/2),\n",
       " (0, 1, 3/2),\n",
       " (1, 0, 3/2),\n",
       " (-sqrt(2)/2, -sqrt(2)/2, -3*sqrt(2)/4),\n",
       " (sqrt(2)/2, sqrt(2)/2, 3*sqrt(2)/4)]"
      ]
     },
     "metadata": {},
     "output_type": "display_data"
    }
   ],
   "source": [
    "# For equality constrains\n",
    "objective = Eq(3*x**2-2*x*l, 0)\n",
    "constrain  = Eq(x**2+y**2, 1)\n",
    "\n",
    "# One equality constraint.\n",
    "print('Objective:')\n",
    "display(objective)\n",
    "\n",
    "print('Subject to:')\n",
    "display(constrain)\n",
    "\n",
    "print('Possible results:')\n",
    "sol = solve([Eq(3*x**2-2*x*l ,0),\n",
    "      Eq(3*y**2-2*y*l, 0),\n",
    "      Eq(x**2+y**2, 1)], [x,y,l])\n",
    "\n",
    "display(sol)"
   ]
  },
  {
   "cell_type": "code",
   "execution_count": 8,
   "metadata": {},
   "outputs": [
    {
     "name": "stdout",
     "output_type": "stream",
     "text": [
      "Objective:\n"
     ]
    },
    {
     "data": {
      "text/latex": [
       "$\\displaystyle 2 l^{2} x + 3 x^{2} = 0$"
      ],
      "text/plain": [
       "Eq(2*l**2*x + 3*x**2, 0)"
      ]
     },
     "metadata": {},
     "output_type": "display_data"
    },
    {
     "name": "stdout",
     "output_type": "stream",
     "text": [
      "Subject to with slack variable:\n"
     ]
    },
    {
     "data": {
      "text/latex": [
       "$\\displaystyle k^{2} + x^{2} + y^{2} = 1$"
      ],
      "text/plain": [
       "Eq(k**2 + x**2 + y**2, 1)"
      ]
     },
     "metadata": {},
     "output_type": "display_data"
    },
    {
     "name": "stdout",
     "output_type": "stream",
     "text": [
      "Converted\n"
     ]
    },
    {
     "data": {
      "text/latex": [
       "$\\displaystyle x^{2} + y^{2} - 1 = 0$"
      ],
      "text/plain": [
       "Eq(x**2 + y**2 - 1, 0)"
      ]
     },
     "metadata": {},
     "output_type": "display_data"
    },
    {
     "name": "stdout",
     "output_type": "stream",
     "text": [
      "Possible results:\n"
     ]
    },
    {
     "data": {
      "text/plain": [
       "[(-1, 0, -sqrt(6)/2, 0),\n",
       " (-1, 0, sqrt(6)/2, 0),\n",
       " (0, -1, -sqrt(6)/2, 0),\n",
       " (0, -1, sqrt(6)/2, 0),\n",
       " (0, 0, 0, -1),\n",
       " (0, 0, 0, 1),\n",
       " (0, 1, -sqrt(6)*I/2, 0),\n",
       " (0, 1, sqrt(6)*I/2, 0),\n",
       " (1, 0, -sqrt(6)*I/2, 0),\n",
       " (1, 0, sqrt(6)*I/2, 0),\n",
       " (-sqrt(2)/2, -sqrt(2)/2, -2**(1/4)*sqrt(3)/2, 0),\n",
       " (-sqrt(2)/2, -sqrt(2)/2, 2**(1/4)*sqrt(3)/2, 0),\n",
       " (sqrt(2)/2, sqrt(2)/2, -2**(1/4)*sqrt(3)*I/2, 0),\n",
       " (sqrt(2)/2, sqrt(2)/2, 2**(1/4)*sqrt(3)*I/2, 0)]"
      ]
     },
     "metadata": {},
     "output_type": "display_data"
    }
   ],
   "source": [
    "# For inequality constrains\n",
    "objective = Eq(3*x**2+2*x*l**2,0)\n",
    "constrain  = Eq(x**2+y**2+k**2,1)\n",
    "constrain_convert  = Eq(x**2+y**2-1,0)\n",
    "\n",
    "# One equality constraint.\n",
    "print('Objective:')\n",
    "display(objective)\n",
    "\n",
    "# Can convert it into an equality constrain by introducing a slack variable, k\n",
    "print('Subject to with slack variable:')\n",
    "display(constrain)\n",
    "\n",
    "print('Converted')\n",
    "display(constrain_convert)\n",
    "\n",
    "print('Possible results:')\n",
    "sol = solve([Eq(3*x**2+2*x*l**2,0),\n",
    "      Eq(3*y**2+2*y*l**2,0),\n",
    "      Eq(x**2+y**2+k**2,1),\n",
    "      Eq(x**2*l+y**2*l-l,0)], [x,y,l,k])\n",
    "\n",
    "display(sol)"
   ]
  },
  {
   "cell_type": "markdown",
   "metadata": {},
   "source": [
    "<div class=\"alert alert-block alert-info\">\n",
    "<b>With Numpy</b>\n",
    "</div>"
   ]
  },
  {
   "cell_type": "code",
   "execution_count": 9,
   "metadata": {},
   "outputs": [
    {
     "data": {
      "text/plain": [
       "     fun: 1.5\n",
       "     jac: array([ 2.00000001, -0.99999999,  1.00000001])\n",
       " message: 'Optimization terminated successfully.'\n",
       "    nfev: 5\n",
       "     nit: 1\n",
       "    njev: 1\n",
       "  status: 0\n",
       " success: True\n",
       "       x: array([ 1. , -0.5,  0.5])"
      ]
     },
     "execution_count": 9,
     "metadata": {},
     "output_type": "execute_result"
    }
   ],
   "source": [
    "# Sign = - 1 for Maximum and no Sign for Minimum\n",
    "# 'eq' For equality\n",
    "\n",
    "def objective(X):\n",
    "    x, y, z = X\n",
    "    return x**2 + y**2 + z**2\n",
    "\n",
    "def constraint1(X):\n",
    "    x, y, z = X\n",
    "    return 2 * x - y + z - 3\n",
    "\n",
    "sol = minimize(objective, [1, -0.5, 0.5], constraints = {'type': 'eq', 'fun': constraint1})\n",
    "sol"
   ]
  },
  {
   "cell_type": "code",
   "execution_count": 10,
   "metadata": {},
   "outputs": [
    {
     "name": "stdout",
     "output_type": "stream",
     "text": [
      "The answer is at (1.0, -0.5, 0.5)\n"
     ]
    }
   ],
   "source": [
    "# To find x array\n",
    "\n",
    "def F(L):\n",
    "    'Augmented Lagrange function'\n",
    "    x, y, z, _lambda = L\n",
    "    return objective([x, y, z]) - _lambda * constraint1([x, y, z])\n",
    "\n",
    "# Gradients of the Lagrange function\n",
    "dfdL = grad(F, 0)\n",
    "\n",
    "# Find L that returns all zeros in this function.\n",
    "def obj(L):\n",
    "    x, y, z, _lambda = L\n",
    "    dFdx, dFdy, dFdz, dFdlam = dfdL(L)\n",
    "    return [dFdx, dFdy, dFdz, constraint1([x, y, z])]\n",
    "\n",
    "from scipy.optimize import fsolve\n",
    "x, y, z, _lam = fsolve(obj, [0.0, 0.0, 0.0, 1.0])\n",
    "print(f'The answer is at {x, y, z}')"
   ]
  },
  {
   "cell_type": "code",
   "execution_count": 11,
   "metadata": {},
   "outputs": [
    {
     "name": "stdout",
     "output_type": "stream",
     "text": [
      "     fun: -35.99999999999172\n",
      "     jac: array([-3., -5.])\n",
      " message: 'Optimization terminated successfully.'\n",
      "    nfev: 12\n",
      "     nit: 3\n",
      "    njev: 3\n",
      "  status: 0\n",
      " success: True\n",
      "       x: array([2., 6.])\n"
     ]
    }
   ],
   "source": [
    "# Sign = - 1 for Maximum and no Sign for Minimum\n",
    "# 'ineq' For inequality\n",
    "\n",
    "def objective(x):\n",
    "    sign = - 1\n",
    "    x1 = x[0]\n",
    "    x2 = x[1]\n",
    "    return sign * (3 * x1 + 5 * x2)\n",
    "\n",
    "def constraint1(x):\n",
    "    return 18.0 - 3* x[0] - 2 * x[1]\n",
    "\n",
    "x0 = [0, 0]\n",
    "b1 = (0, 4)\n",
    "b2 = (0, 6)\n",
    "bnds = (b1, b2)\n",
    "cons = {'type': 'ineq', 'fun': constraint1}\n",
    "sol = minimize(objective, x0, method = 'SLSQP', bounds = bnds, constraints = cons)\n",
    "print(sol)"
   ]
  },
  {
   "cell_type": "markdown",
   "metadata": {},
   "source": [
    "<div class=\"alert alert-block alert-info\">\n",
    "<b>Matrix problem with CVXPY</b>\n",
    "</div>"
   ]
  },
  {
   "cell_type": "code",
   "execution_count": 12,
   "metadata": {},
   "outputs": [
    {
     "name": "stdout",
     "output_type": "stream",
     "text": [
      "[ 3.82931579e-01  1.00000000e+00  6.26048287e-01 -1.35471555e-20\n",
      "  1.12084817e-02 -6.04767434e-21 -3.16509064e-21  1.00167352e-01\n",
      "  8.65011050e-01  5.06454750e-01  2.80702223e-01  5.83132330e-01\n",
      " -2.68829843e-20  3.07922421e-01 -7.80470713e-21  1.88492328e-01\n",
      "  4.09306358e-01  1.41151229e-01  3.33278444e-02  5.15754509e-02]\n",
      "[ 0.          0.          0.          4.48830236  0.          5.21912347\n",
      "  4.48729148  0.          0.          0.          0.          0.\n",
      "  5.65938809  0.         10.47822484  0.          0.          0.\n",
      "  0.          0.        ]\n"
     ]
    }
   ],
   "source": [
    "# Problem data\n",
    "m = 20\n",
    "n = 20\n",
    "np.random.seed(1)\n",
    "A = np.random.randn(m, n)\n",
    "b = np.random.randn(m)\n",
    "\n",
    "# The problem\n",
    "x = cp.Variable(n)\n",
    "objective = cp.Minimize(cp.sum_squares(A@x - b))\n",
    "constraints = [0 <= x, x <= 1]\n",
    "problem = cp.Problem(objective, constraints)\n",
    "\n",
    "# The optimal objective value is returned by `problem.solve()`\n",
    "result = problem.solve()\n",
    "# The optimal value for x is stored in `x.value`\n",
    "print(x.value)\n",
    "# The optimal Lagrange multiplier for a constraint is stored in `constraint.dual_value`\n",
    "print(constraints[0].dual_value)"
   ]
  }
 ],
 "metadata": {
  "kernelspec": {
   "display_name": "Python 3 (ipykernel)",
   "language": "python",
   "name": "python3"
  },
  "language_info": {
   "codemirror_mode": {
    "name": "ipython",
    "version": 3
   },
   "file_extension": ".py",
   "mimetype": "text/x-python",
   "name": "python",
   "nbconvert_exporter": "python",
   "pygments_lexer": "ipython3",
   "version": "3.10.2"
  }
 },
 "nbformat": 4,
 "nbformat_minor": 4
}
