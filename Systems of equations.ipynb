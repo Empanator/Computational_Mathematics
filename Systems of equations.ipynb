{
 "cells": [
  {
   "cell_type": "markdown",
   "metadata": {},
   "source": [
    "***Color manual***\n",
    "\n",
    "<div class=\"alert alert-block alert-success\">\n",
    "<b>Green - Libraries</b>\n",
    "</div>\n",
    "\n",
    "<div class=\"alert alert-block alert-info\">\n",
    "<b>Blue - Information</b>\n",
    "</div>\n",
    "\n",
    "<div class=\"alert alert-block alert-danger\">\n",
    "<b>Red - Problems</b>\n",
    "</div>\n",
    "\n",
    "***"
   ]
  },
  {
   "cell_type": "markdown",
   "metadata": {},
   "source": [
    "<div class=\"alert alert-block alert-success\">\n",
    "<b>Import libraries</b>\n",
    "</div>"
   ]
  },
  {
   "cell_type": "code",
   "execution_count": 31,
   "metadata": {},
   "outputs": [],
   "source": [
    "import sympy as sym\n",
    "import numpy as np\n",
    "\n",
    "from sympy import * "
   ]
  },
  {
   "cell_type": "markdown",
   "metadata": {},
   "source": [
    "<div class=\"alert alert-block alert-info\">\n",
    "<b>Create symbol</b>\n",
    "</div>"
   ]
  },
  {
   "cell_type": "code",
   "execution_count": 25,
   "metadata": {},
   "outputs": [],
   "source": [
    "x, y = sym.symbols('x y')"
   ]
  },
  {
   "cell_type": "markdown",
   "metadata": {},
   "source": [
    "<div class=\"alert alert-block alert-info\">\n",
    "<b>Make bold strings</b>\n",
    "</div>"
   ]
  },
  {
   "cell_type": "code",
   "execution_count": 26,
   "metadata": {},
   "outputs": [],
   "source": [
    "class style:\n",
    "   BOLD = '\\033[1m'\n",
    "   END = '\\033[0m'"
   ]
  },
  {
   "cell_type": "markdown",
   "metadata": {},
   "source": [
    "<div class=\"alert alert-block alert-info\">\n",
    "<b>Choose the values of matrix</b>\n",
    "</div>"
   ]
  },
  {
   "cell_type": "code",
   "execution_count": 51,
   "metadata": {},
   "outputs": [
    {
     "name": "stdout",
     "output_type": "stream",
     "text": [
      "Choose lower limit: -10\n",
      "Choose upper limit: 15\n"
     ]
    }
   ],
   "source": [
    "min_val = int(input('Choose lower limit: '))\n",
    "max_val = int(input('Choose upper limit: '))\n",
    "\n",
    "random11 = np.random.randint(min_val, max_val)\n",
    "random12 = np.random.randint(min_val, max_val)\n",
    "random13 = np.random.randint(min_val, max_val)\n",
    "\n",
    "random21 = np.random.randint(min_val, max_val)\n",
    "random22 = np.random.randint(min_val, max_val)\n",
    "random23 = np.random.randint(min_val, max_val)\n",
    "\n",
    "random31 = np.random.randint(min_val, max_val)\n",
    "random32 = np.random.randint(min_val, max_val)\n",
    "random33 = np.random.randint(min_val, max_val)\n",
    "\n",
    "a11 = random11\n",
    "a12 = random12\n",
    "a13 = random13\n",
    "\n",
    "a21 = random21\n",
    "a22 = random22\n",
    "a23 = random23\n",
    "\n",
    "a31 = random31\n",
    "a32 = random32\n",
    "a33 = random33"
   ]
  },
  {
   "cell_type": "markdown",
   "metadata": {},
   "source": [
    "<div class=\"alert alert-block alert-info\">\n",
    "<b>Create a random system of equations</b>\n",
    "</div>"
   ]
  },
  {
   "cell_type": "code",
   "execution_count": 52,
   "metadata": {
    "scrolled": false
   },
   "outputs": [
    {
     "data": {
      "text/latex": [
       "$\\displaystyle 14 x - y = -7$"
      ],
      "text/plain": [
       "Eq(14*x - y, -7)"
      ]
     },
     "metadata": {},
     "output_type": "display_data"
    },
    {
     "data": {
      "text/latex": [
       "$\\displaystyle x + 9 y = 10$"
      ],
      "text/plain": [
       "Eq(x + 9*y, 10)"
      ]
     },
     "metadata": {},
     "output_type": "display_data"
    },
    {
     "data": {
      "text/latex": [
       "$\\displaystyle 4 x + 6 y = -1$"
      ],
      "text/plain": [
       "Eq(4*x + 6*y, -1)"
      ]
     },
     "metadata": {},
     "output_type": "display_data"
    }
   ],
   "source": [
    "eq1 = Eq(a11*x + a12*y, a13)\n",
    "eq2 = Eq(a21*x + a22*y, a23)\n",
    "eq3 = Eq(a31*x + a32*y, a33)\n",
    "\n",
    "display(eq1)\n",
    "display(eq2)\n",
    "display(eq3)"
   ]
  },
  {
   "cell_type": "markdown",
   "metadata": {},
   "source": [
    "<div class=\"alert alert-block alert-info\">\n",
    "<b>Create random matrix and solving it</b>\n",
    "</div>"
   ]
  },
  {
   "cell_type": "code",
   "execution_count": 53,
   "metadata": {},
   "outputs": [
    {
     "data": {
      "text/latex": [
       "$\\displaystyle \\left[\\begin{matrix}14 & -1 & -7\\\\1 & 9 & 10\\\\4 & 6 & -1\\end{matrix}\\right]$"
      ],
      "text/plain": [
       "Matrix([\n",
       "[14, -1, -7],\n",
       "[ 1,  9, 10],\n",
       "[ 4,  6, -1]])"
      ]
     },
     "metadata": {},
     "output_type": "display_data"
    },
    {
     "data": {
      "text/plain": [
       "None"
      ]
     },
     "metadata": {},
     "output_type": "display_data"
    }
   ],
   "source": [
    "row1 = [a11, a12, a13]\n",
    "row2 = [a21, a22, a23]\n",
    "row3 = [a31, a32, a33]\n",
    "\n",
    "matrix = Matrix((row1, row2, row3))\n",
    "\n",
    "display(matrix)\n",
    "display(solve_linear_system(matrix, x, y))"
   ]
  },
  {
   "cell_type": "markdown",
   "metadata": {},
   "source": [
    "<div class=\"alert alert-block alert-info\">\n",
    "<b>Create static matrix and solving it</b>\n",
    "</div>"
   ]
  },
  {
   "cell_type": "code",
   "execution_count": 59,
   "metadata": {},
   "outputs": [
    {
     "data": {
      "text/latex": [
       "$\\displaystyle \\left[\\begin{matrix}2 & 3 & 5\\\\4 & 5 & 7\\\\3 & 5 & 9\\end{matrix}\\right]$"
      ],
      "text/plain": [
       "Matrix([\n",
       "[2, 3, 5],\n",
       "[4, 5, 7],\n",
       "[3, 5, 9]])"
      ]
     },
     "metadata": {},
     "output_type": "display_data"
    },
    {
     "data": {
      "text/plain": [
       "{y: 3, x: -2}"
      ]
     },
     "metadata": {},
     "output_type": "display_data"
    }
   ],
   "source": [
    "row1 = [2, 3, 5]\n",
    "row2 = [4, 5, 7]\n",
    "row3 = [3, 5, 9]\n",
    "\n",
    "matrix = Matrix((row1, row2, row3))\n",
    "\n",
    "display(matrix)\n",
    "display(solve_linear_system(matrix, x, y))"
   ]
  }
 ],
 "metadata": {
  "kernelspec": {
   "display_name": "Python 3",
   "language": "python",
   "name": "python3"
  },
  "language_info": {
   "codemirror_mode": {
    "name": "ipython",
    "version": 3
   },
   "file_extension": ".py",
   "mimetype": "text/x-python",
   "name": "python",
   "nbconvert_exporter": "python",
   "pygments_lexer": "ipython3",
   "version": "3.7.7"
  }
 },
 "nbformat": 4,
 "nbformat_minor": 4
}
