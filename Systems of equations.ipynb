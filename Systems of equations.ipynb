{
 "cells": [
  {
   "cell_type": "markdown",
   "metadata": {},
   "source": [
    "***Color manual***\n",
    "\n",
    "<div class=\"alert alert-block alert-success\">\n",
    "<b>Green - Libraries</b>\n",
    "</div>\n",
    "\n",
    "<div class=\"alert alert-block alert-info\">\n",
    "<b>Blue - Information</b>\n",
    "</div>\n",
    "\n",
    "<div class=\"alert alert-block alert-danger\">\n",
    "<b>Red - Problems</b>\n",
    "</div>\n",
    "\n",
    "***"
   ]
  },
  {
   "cell_type": "markdown",
   "metadata": {},
   "source": [
    "<div class=\"alert alert-block alert-success\">\n",
    "<b>Import libraries</b>\n",
    "</div>"
   ]
  },
  {
   "cell_type": "code",
   "execution_count": 11,
   "metadata": {},
   "outputs": [],
   "source": [
    "import numpy as np\n",
    "import sympy as sym\n",
    "\n",
    "from sympy import * \n",
    "from numpy import linalg"
   ]
  },
  {
   "cell_type": "markdown",
   "metadata": {},
   "source": [
    "<div class=\"alert alert-block alert-info\">\n",
    "<b>Symbols</b>\n",
    "</div>"
   ]
  },
  {
   "cell_type": "code",
   "execution_count": 3,
   "metadata": {},
   "outputs": [],
   "source": [
    "x, y = sym.symbols('x y')"
   ]
  },
  {
   "cell_type": "markdown",
   "metadata": {},
   "source": [
    "<div class=\"alert alert-block alert-info\">\n",
    "<b>Random system of equations and solving it (If possible)</b>\n",
    "</div>"
   ]
  },
  {
   "cell_type": "code",
   "execution_count": 4,
   "metadata": {},
   "outputs": [
    {
     "name": "stdout",
     "output_type": "stream",
     "text": [
      "Choose lower limit: 1\n",
      "Choose upper limit: 10\n",
      "\n",
      "This is the system of equation:\n"
     ]
    },
    {
     "data": {
      "text/latex": [
       "$\\displaystyle 7.87 x + 9.2 y = 8.19$"
      ],
      "text/plain": [
       "Eq(7.87*x + 9.2*y, 8.19)"
      ]
     },
     "metadata": {},
     "output_type": "display_data"
    },
    {
     "data": {
      "text/latex": [
       "$\\displaystyle 1.59 x + 6.66 y = 1.87$"
      ],
      "text/plain": [
       "Eq(1.59*x + 6.66*y, 1.87)"
      ]
     },
     "metadata": {},
     "output_type": "display_data"
    },
    {
     "data": {
      "text/latex": [
       "$\\displaystyle 2.13 x + 9.49 y = 2.26$"
      ],
      "text/plain": [
       "Eq(2.13*x + 9.49*y, 2.26)"
      ]
     },
     "metadata": {},
     "output_type": "display_data"
    },
    {
     "name": "stdout",
     "output_type": "stream",
     "text": [
      "This is the matrix:\n"
     ]
    },
    {
     "data": {
      "text/latex": [
       "$\\displaystyle \\left[\\begin{matrix}7.87 & 9.2 & 8.19\\\\1.59 & 6.66 & 1.87\\\\2.13 & 9.49 & 2.26\\end{matrix}\\right]$"
      ],
      "text/plain": [
       "Matrix([\n",
       "[7.87,  9.2, 8.19],\n",
       "[1.59, 6.66, 1.87],\n",
       "[2.13, 9.49, 2.26]])"
      ]
     },
     "metadata": {},
     "output_type": "display_data"
    },
    {
     "name": "stdout",
     "output_type": "stream",
     "text": [
      "This is the x and y values to solve the system of equations:\n"
     ]
    },
    {
     "data": {
      "text/plain": [
       "None"
      ]
     },
     "metadata": {},
     "output_type": "display_data"
    }
   ],
   "source": [
    "# Input lower and upper limit to the equations variables\n",
    "min_val = float(input('Choose lower limit: '))\n",
    "max_val = float(input('Choose upper limit: '))\n",
    "\n",
    "# Give value to equations\n",
    "a11 = np.around(np.random.uniform(min_val, max_val), decimals = 2)\n",
    "a12 = np.around(np.random.uniform(min_val, max_val), decimals = 2)\n",
    "a13 = np.around(np.random.uniform(min_val, max_val), decimals = 2)\n",
    "\n",
    "a21 = np.around(np.random.uniform(min_val, max_val), decimals = 2)\n",
    "a22 = np.around(np.random.uniform(min_val, max_val), decimals = 2)\n",
    "a23 = np.around(np.random.uniform(min_val, max_val), decimals = 2)\n",
    "\n",
    "a31 = np.around(np.random.uniform(min_val, max_val), decimals = 2)\n",
    "a32 = np.around(np.random.uniform(min_val, max_val), decimals = 2)\n",
    "a33 = np.around(np.random.uniform(min_val, max_val), decimals = 2)\n",
    "\n",
    "# Create system of equations\n",
    "eq1 = Eq(a11*x + a12*y, a13)\n",
    "eq2 = Eq(a21*x + a22*y, a23)\n",
    "eq3 = Eq(a31*x + a32*y, a33)\n",
    "\n",
    "print()\n",
    "\n",
    "# Display system of equations \n",
    "print('This is the system of equation:')\n",
    "display(eq1)\n",
    "display(eq2)\n",
    "display(eq3)\n",
    "\n",
    "# Matrix rows and columns\n",
    "row1 = [a11, a12, a13]\n",
    "row2 = [a21, a22, a23]\n",
    "row3 = [a31, a32, a33]\n",
    "\n",
    "# Create matrix\n",
    "matrix = Matrix((row1, row2, row3))\n",
    "\n",
    "# Display matrix\n",
    "print('This is the matrix:')\n",
    "display(matrix)\n",
    "\n",
    "# Solve the matrix to get the results of the system of equations\n",
    "print('This is the x and y values to solve the system of equations:')\n",
    "display(solve_linear_system(matrix, x, y))"
   ]
  },
  {
   "cell_type": "markdown",
   "metadata": {},
   "source": [
    "<div class=\"alert alert-block alert-info\">\n",
    "<b>System of equations with Sympy</b>\n",
    "</div>"
   ]
  },
  {
   "cell_type": "code",
   "execution_count": 30,
   "metadata": {},
   "outputs": [
    {
     "name": "stdout",
     "output_type": "stream",
     "text": [
      "This is the system of equation:\n"
     ]
    },
    {
     "data": {
      "text/latex": [
       "$\\displaystyle 2 x + 3 y = 5$"
      ],
      "text/plain": [
       "Eq(2*x + 3*y, 5)"
      ]
     },
     "metadata": {},
     "output_type": "display_data"
    },
    {
     "data": {
      "text/latex": [
       "$\\displaystyle 4 x + 5 y = 7$"
      ],
      "text/plain": [
       "Eq(4*x + 5*y, 7)"
      ]
     },
     "metadata": {},
     "output_type": "display_data"
    },
    {
     "data": {
      "text/latex": [
       "$\\displaystyle 3 x + 5 y = 9$"
      ],
      "text/plain": [
       "Eq(3*x + 5*y, 9)"
      ]
     },
     "metadata": {},
     "output_type": "display_data"
    },
    {
     "name": "stdout",
     "output_type": "stream",
     "text": [
      "This is the system of equations matrix:\n"
     ]
    },
    {
     "data": {
      "text/latex": [
       "$\\displaystyle \\left[\\begin{matrix}2 & 3 & 5\\\\4 & 5 & 7\\\\3 & 5 & 9\\end{matrix}\\right]$"
      ],
      "text/plain": [
       "Matrix([\n",
       "[2, 3, 5],\n",
       "[4, 5, 7],\n",
       "[3, 5, 9]])"
      ]
     },
     "metadata": {},
     "output_type": "display_data"
    },
    {
     "name": "stdout",
     "output_type": "stream",
     "text": [
      "This is the x and y values to solve the system of equations:\n"
     ]
    },
    {
     "data": {
      "text/plain": [
       "{y: 3, x: -2}"
      ]
     },
     "metadata": {},
     "output_type": "display_data"
    }
   ],
   "source": [
    "eq1 = Eq(2*x + 3*y, 5)\n",
    "eq2 = Eq(4*x + 5*y, 7)\n",
    "eq3 = Eq(3*x + 5*y, 9)\n",
    "\n",
    "# System of equations\n",
    "display(eq1)\n",
    "display(eq2)\n",
    "display(eq3)\n",
    "\n",
    "row1 = [2, 3, 5]\n",
    "row2 = [4, 5, 7]\n",
    "row3 = [3, 5, 9]\n",
    "\n",
    "matrix = Matrix((row1, row2, row3))\n",
    "\n",
    "# Display the matrix to solve the system\n",
    "display(matrix)\n",
    "\n",
    "# Solution for the system\n",
    "anwser = solve_linear_system(matrix, x, y)\n",
    "display(anwser)"
   ]
  },
  {
   "cell_type": "markdown",
   "metadata": {},
   "source": [
    "<div class=\"alert alert-block alert-info\">\n",
    "<b>System of equations with Numpy</b>\n",
    "</div>"
   ]
  },
  {
   "cell_type": "code",
   "execution_count": 40,
   "metadata": {},
   "outputs": [
    {
     "name": "stdout",
     "output_type": "stream",
     "text": [
      "[[ 2 -1 -4]\n",
      " [ 3 -1 -2]]\n"
     ]
    },
    {
     "data": {
      "text/plain": [
       "array([2., 8.])"
      ]
     },
     "metadata": {},
     "output_type": "display_data"
    }
   ],
   "source": [
    "row1 = [2, -1]\n",
    "row2 = [3, -1]\n",
    "cons = [-4, -2]\n",
    "\n",
    "matrix = np.array([row1, row2])\n",
    "constants = np.array(cons)\n",
    "\n",
    "# Display the matrix to solve the system\n",
    "a = np.matrix([[2, -1, -4], [3, -1, -2]])\n",
    "print(a)\n",
    "\n",
    "# Solution for the system\n",
    "anwser = linalg.solve(matrix, constants)\n",
    "display(anwser)"
   ]
  }
 ],
 "metadata": {
  "kernelspec": {
   "display_name": "Python 3",
   "language": "python",
   "name": "python3"
  },
  "language_info": {
   "codemirror_mode": {
    "name": "ipython",
    "version": 3
   },
   "file_extension": ".py",
   "mimetype": "text/x-python",
   "name": "python",
   "nbconvert_exporter": "python",
   "pygments_lexer": "ipython3",
   "version": "3.7.7"
  }
 },
 "nbformat": 4,
 "nbformat_minor": 4
}
