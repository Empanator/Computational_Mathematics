{
 "cells": [
  {
   "cell_type": "markdown",
   "metadata": {},
   "source": [
    "<div class=\"alert alert-block alert-success\">\n",
    "<b>Imported libraries</b>\n",
    "</div>"
   ]
  },
  {
   "cell_type": "code",
   "execution_count": 1,
   "metadata": {},
   "outputs": [],
   "source": [
    "import numpy as np\n",
    "import sympy as sym\n",
    "\n",
    "from sympy import * \n",
    "from numpy import linalg"
   ]
  },
  {
   "cell_type": "markdown",
   "metadata": {},
   "source": [
    "<div class=\"alert alert-block alert-info\">\n",
    "<b>Symbols</b>\n",
    "</div>"
   ]
  },
  {
   "cell_type": "code",
   "execution_count": 2,
   "metadata": {},
   "outputs": [],
   "source": [
    "x, y = sym.symbols('x y')"
   ]
  },
  {
   "cell_type": "markdown",
   "metadata": {},
   "source": [
    "<div class=\"alert alert-block alert-info\">\n",
    "<b>System of equations with Sympy</b>\n",
    "</div>"
   ]
  },
  {
   "cell_type": "code",
   "execution_count": 3,
   "metadata": {},
   "outputs": [
    {
     "data": {
      "text/latex": [
       "$\\displaystyle 2 x + 3 y = 5$"
      ],
      "text/plain": [
       "Eq(2*x + 3*y, 5)"
      ]
     },
     "metadata": {},
     "output_type": "display_data"
    },
    {
     "data": {
      "text/latex": [
       "$\\displaystyle 4 x + 5 y = 7$"
      ],
      "text/plain": [
       "Eq(4*x + 5*y, 7)"
      ]
     },
     "metadata": {},
     "output_type": "display_data"
    },
    {
     "data": {
      "text/latex": [
       "$\\displaystyle 3 x + 5 y = 9$"
      ],
      "text/plain": [
       "Eq(3*x + 5*y, 9)"
      ]
     },
     "metadata": {},
     "output_type": "display_data"
    },
    {
     "data": {
      "text/latex": [
       "$\\displaystyle \\left[\\begin{matrix}2 & 3 & 5\\\\4 & 5 & 7\\\\3 & 5 & 9\\end{matrix}\\right]$"
      ],
      "text/plain": [
       "Matrix([\n",
       "[2, 3, 5],\n",
       "[4, 5, 7],\n",
       "[3, 5, 9]])"
      ]
     },
     "metadata": {},
     "output_type": "display_data"
    },
    {
     "data": {
      "text/plain": [
       "{y: 3, x: -2}"
      ]
     },
     "metadata": {},
     "output_type": "display_data"
    }
   ],
   "source": [
    "eq1 = Eq(2*x + 3*y, 5)\n",
    "eq2 = Eq(4*x + 5*y, 7)\n",
    "eq3 = Eq(3*x + 5*y, 9)\n",
    "\n",
    "# System of equations\n",
    "display(eq1)\n",
    "display(eq2)\n",
    "display(eq3)\n",
    "\n",
    "row1 = [2, 3, 5]\n",
    "row2 = [4, 5, 7]\n",
    "row3 = [3, 5, 9]\n",
    "\n",
    "matrix = Matrix((row1, row2, row3))\n",
    "\n",
    "# Display the matrix to solve the system\n",
    "display(matrix)\n",
    "\n",
    "# Solution for the system\n",
    "anwser = solve_linear_system(matrix, x, y)\n",
    "display(anwser)"
   ]
  },
  {
   "cell_type": "markdown",
   "metadata": {},
   "source": [
    "<div class=\"alert alert-block alert-info\">\n",
    "<b>Random system of equations and solving it (If possible)</b>\n",
    "</div>"
   ]
  },
  {
   "cell_type": "code",
   "execution_count": 4,
   "metadata": {},
   "outputs": [
    {
     "name": "stdout",
     "output_type": "stream",
     "text": [
      "Choose lower limit: 0\n",
      "Choose upper limit: 1\n",
      "\n",
      "This is the system of equation:\n"
     ]
    },
    {
     "data": {
      "text/latex": [
       "$\\displaystyle 0.74 x + 0.64 y = 0.68$"
      ],
      "text/plain": [
       "Eq(0.74*x + 0.64*y, 0.68)"
      ]
     },
     "metadata": {},
     "output_type": "display_data"
    },
    {
     "data": {
      "text/latex": [
       "$\\displaystyle 0.31 x + 0.62 y = 0.15$"
      ],
      "text/plain": [
       "Eq(0.31*x + 0.62*y, 0.15)"
      ]
     },
     "metadata": {},
     "output_type": "display_data"
    },
    {
     "data": {
      "text/latex": [
       "$\\displaystyle 0.85 x + 0.88 y = 0.3$"
      ],
      "text/plain": [
       "Eq(0.85*x + 0.88*y, 0.3)"
      ]
     },
     "metadata": {},
     "output_type": "display_data"
    },
    {
     "name": "stdout",
     "output_type": "stream",
     "text": [
      "This is the matrix:\n"
     ]
    },
    {
     "data": {
      "text/latex": [
       "$\\displaystyle \\left[\\begin{matrix}0.74 & 0.64 & 0.68\\\\0.31 & 0.62 & 0.15\\\\0.85 & 0.88 & 0.3\\end{matrix}\\right]$"
      ],
      "text/plain": [
       "Matrix([\n",
       "[0.74, 0.64, 0.68],\n",
       "[0.31, 0.62, 0.15],\n",
       "[0.85, 0.88,  0.3]])"
      ]
     },
     "metadata": {},
     "output_type": "display_data"
    },
    {
     "name": "stdout",
     "output_type": "stream",
     "text": [
      "This is the x and y values to solve the system of equations:\n"
     ]
    },
    {
     "data": {
      "text/plain": [
       "None"
      ]
     },
     "metadata": {},
     "output_type": "display_data"
    }
   ],
   "source": [
    "# Input lower and upper limit to the equations variables\n",
    "min_val = float(input('Choose lower limit: '))\n",
    "max_val = float(input('Choose upper limit: '))\n",
    "\n",
    "# Give value to equations\n",
    "a11 = np.around(np.random.uniform(min_val, max_val), decimals = 2)\n",
    "a12 = np.around(np.random.uniform(min_val, max_val), decimals = 2)\n",
    "a13 = np.around(np.random.uniform(min_val, max_val), decimals = 2)\n",
    "\n",
    "a21 = np.around(np.random.uniform(min_val, max_val), decimals = 2)\n",
    "a22 = np.around(np.random.uniform(min_val, max_val), decimals = 2)\n",
    "a23 = np.around(np.random.uniform(min_val, max_val), decimals = 2)\n",
    "\n",
    "a31 = np.around(np.random.uniform(min_val, max_val), decimals = 2)\n",
    "a32 = np.around(np.random.uniform(min_val, max_val), decimals = 2)\n",
    "a33 = np.around(np.random.uniform(min_val, max_val), decimals = 2)\n",
    "\n",
    "# Create system of equations\n",
    "eq1 = Eq(a11*x + a12*y, a13)\n",
    "eq2 = Eq(a21*x + a22*y, a23)\n",
    "eq3 = Eq(a31*x + a32*y, a33)\n",
    "\n",
    "print()\n",
    "\n",
    "# Display system of equations \n",
    "print('This is the system of equation:')\n",
    "display(eq1)\n",
    "display(eq2)\n",
    "display(eq3)\n",
    "\n",
    "# Matrix rows and columns\n",
    "row1 = [a11, a12, a13]\n",
    "row2 = [a21, a22, a23]\n",
    "row3 = [a31, a32, a33]\n",
    "\n",
    "# Create matrix\n",
    "matrix = Matrix((row1, row2, row3))\n",
    "\n",
    "# Display matrix\n",
    "print('This is the matrix:')\n",
    "display(matrix)\n",
    "\n",
    "# Solve the matrix to get the results of the system of equations\n",
    "print('This is the x and y values to solve the system of equations:')\n",
    "display(solve_linear_system(matrix, x, y))"
   ]
  }
 ],
 "metadata": {
  "kernelspec": {
   "display_name": "Python 3",
   "language": "python",
   "name": "python3"
  },
  "language_info": {
   "codemirror_mode": {
    "name": "ipython",
    "version": 3
   },
   "file_extension": ".py",
   "mimetype": "text/x-python",
   "name": "python",
   "nbconvert_exporter": "python",
   "pygments_lexer": "ipython3",
   "version": "3.7.7"
  }
 },
 "nbformat": 4,
 "nbformat_minor": 4
}
