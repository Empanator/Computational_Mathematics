{
 "cells": [
  {
   "cell_type": "markdown",
   "metadata": {},
   "source": [
    "***Color manual***\n",
    "\n",
    "<div class=\"alert alert-block alert-success\">\n",
    "<b>Green - Libraries</b>\n",
    "</div>\n",
    "\n",
    "<div class=\"alert alert-block alert-info\">\n",
    "<b>Blue - Information</b>\n",
    "</div>\n",
    "\n",
    "<div class=\"alert alert-block alert-danger\">\n",
    "<b>Red - Problems</b>\n",
    "</div>\n",
    "\n",
    "***"
   ]
  },
  {
   "cell_type": "markdown",
   "metadata": {},
   "source": [
    "<div class=\"alert alert-block alert-success\">\n",
    "<b>Import libraries</b>\n",
    "</div>"
   ]
  },
  {
   "cell_type": "code",
   "execution_count": 1,
   "metadata": {},
   "outputs": [],
   "source": [
    "import numpy as np\n",
    "\n",
    "from scipy.optimize import minimize"
   ]
  },
  {
   "cell_type": "markdown",
   "metadata": {},
   "source": [
    "<div class=\"alert alert-block alert-info\">\n",
    "<b>Define objective and constraint(s) function(s)</b>\n",
    "</div>"
   ]
  },
  {
   "cell_type": "markdown",
   "metadata": {},
   "source": [
    "$$\\min x_2 x_3 \\left(x_1 + x_2 + x_4\\right) + x_3$$ <p>&nbsp;</p>\n",
    "$$\\mathrm{s.t.} \\quad x_2 x_1 x_4 x_3 \\ge 10$$ <p>&nbsp;</p>\n",
    "$$x_1^2 + x_2^2 + x_3^2 + x_4^2 = 20$$"
   ]
  },
  {
   "cell_type": "code",
   "execution_count": 2,
   "metadata": {},
   "outputs": [],
   "source": [
    "def objective(x):\n",
    "    return x[1] * x[2] * (x[0] + x[1] + x[3]) + x[2]\n",
    "\n",
    "def constraint1(x):\n",
    "    return x[1] * x[0] * x[3] * x[2] - 10\n",
    "\n",
    "def constraint2(x):\n",
    "    sum_eq = 20\n",
    "    for i in range(4):\n",
    "        sum_eq = sum_eq - x[i]**2\n",
    "    return sum_eq"
   ]
  },
  {
   "cell_type": "markdown",
   "metadata": {},
   "source": [
    "<div class=\"alert alert-block alert-info\">\n",
    "<b>Make Guesses</b>\n",
    "</div>"
   ]
  },
  {
   "cell_type": "markdown",
   "metadata": {},
   "source": [
    "$$x_0 = (2,6,6,2)$$ "
   ]
  },
  {
   "cell_type": "code",
   "execution_count": 3,
   "metadata": {},
   "outputs": [],
   "source": [
    "initial_guesses = [2, 6, 6, 2]"
   ]
  },
  {
   "cell_type": "markdown",
   "metadata": {},
   "source": [
    "<div class=\"alert alert-block alert-info\">\n",
    "<b>Make bounds</b>\n",
    "</div>"
   ]
  },
  {
   "cell_type": "markdown",
   "metadata": {},
   "source": [
    "$$2\\le x_1, x_2, x_3, x_4 \\le 6$$"
   ]
  },
  {
   "cell_type": "code",
   "execution_count": 4,
   "metadata": {},
   "outputs": [],
   "source": [
    "bounds_1 = (2, 6)\n",
    "bounds_2 = (2, 6)\n",
    "bounds_3 = (2, 6)\n",
    "bounds_4 = (2, 6)\n",
    "\n",
    "all_bounds = (bounds_1, bounds_2, bounds_3, bounds_4)"
   ]
  },
  {
   "cell_type": "markdown",
   "metadata": {},
   "source": [
    "<div class=\"alert alert-block alert-info\">\n",
    "<b>Optimize</b>\n",
    "</div>"
   ]
  },
  {
   "cell_type": "code",
   "execution_count": 5,
   "metadata": {},
   "outputs": [
    {
     "name": "stdout",
     "output_type": "stream",
     "text": [
      "Initial Sum of Squares Error Objective: 366\n",
      "Final Sum of Squares Error Objective: 29.595917942267583\n"
     ]
    }
   ],
   "source": [
    "con1 = {'type': 'ineq', 'fun': constraint1}\n",
    "con2 = {'type': 'eq', 'fun': constraint2}\n",
    "cons = ([con1, con2])\n",
    "solution = minimize(objective , initial_guesses, method = 'SLSQP',\\\n",
    "                    bounds = all_bounds, constraints = cons)\n",
    "sol = solution.x\n",
    "\n",
    "print('Initial Sum of Squares Error Objective: ' + str(objective(initial_guesses)))\n",
    "print('Final Sum of Squares Error Objective: ' + str(objective(sol)))"
   ]
  },
  {
   "cell_type": "markdown",
   "metadata": {},
   "source": [
    "<div class=\"alert alert-block alert-info\">\n",
    "<b>Solution</b>\n",
    "</div>"
   ]
  },
  {
   "cell_type": "code",
   "execution_count": 6,
   "metadata": {},
   "outputs": [
    {
     "name": "stdout",
     "output_type": "stream",
     "text": [
      "Solution\n",
      "x1 = 2.449489730818656\n",
      "x2 = 2.0\n",
      "x3 = 2.000000000000042\n",
      "x4 = 2.449489754748084\n"
     ]
    }
   ],
   "source": [
    "print('Solution')\n",
    "print('x1 = ' + str(sol[0]))\n",
    "print('x2 = ' + str(sol[1]))\n",
    "print('x3 = ' + str(sol[2]))\n",
    "print('x4 = ' + str(sol[3]))"
   ]
  }
 ],
 "metadata": {
  "kernelspec": {
   "display_name": "Python 3",
   "language": "python",
   "name": "python3"
  },
  "language_info": {
   "codemirror_mode": {
    "name": "ipython",
    "version": 3
   },
   "file_extension": ".py",
   "mimetype": "text/x-python",
   "name": "python",
   "nbconvert_exporter": "python",
   "pygments_lexer": "ipython3",
   "version": "3.7.7"
  }
 },
 "nbformat": 4,
 "nbformat_minor": 4
}
