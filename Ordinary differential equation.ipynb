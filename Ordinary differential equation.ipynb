{
 "cells": [
  {
   "cell_type": "markdown",
   "metadata": {},
   "source": [
    "***Color manual***\n",
    "\n",
    "<div class=\"alert alert-block alert-success\">\n",
    "<b>Green - Libraries</b>\n",
    "</div>\n",
    "\n",
    "<div class=\"alert alert-block alert-info\">\n",
    "<b>Blue - Information</b>\n",
    "</div>\n",
    "\n",
    "<div class=\"alert alert-block alert-danger\">\n",
    "<b>Red - Problems</b>\n",
    "</div>\n",
    "\n",
    "***"
   ]
  },
  {
   "cell_type": "markdown",
   "metadata": {},
   "source": [
    "<div class=\"alert alert-block alert-success\">\n",
    "<b>Import libraries</b>\n",
    "</div>"
   ]
  },
  {
   "cell_type": "code",
   "execution_count": 8,
   "metadata": {},
   "outputs": [],
   "source": [
    "import sympy as sym\n",
    "\n",
    "from sympy import * "
   ]
  },
  {
   "cell_type": "markdown",
   "metadata": {},
   "source": [
    "<div class=\"alert alert-block alert-info\">\n",
    "<b>Create symbol</b>\n",
    "</div>"
   ]
  },
  {
   "cell_type": "code",
   "execution_count": 9,
   "metadata": {},
   "outputs": [],
   "source": [
    "x = sym.Symbol('x')"
   ]
  },
  {
   "cell_type": "markdown",
   "metadata": {},
   "source": [
    "<div class=\"alert alert-block alert-info\">\n",
    "<b>Create first order separable  differential equations and solving it</b>\n",
    "</div>"
   ]
  },
  {
   "cell_type": "code",
   "execution_count": 10,
   "metadata": {},
   "outputs": [
    {
     "data": {
      "text/latex": [
       "$\\displaystyle \\left(x^{2} + 1\\right) \\frac{d}{d x} f{\\left(x \\right)} = x f{\\left(x \\right)}$"
      ],
      "text/plain": [
       "Eq((x**2 + 1)*Derivative(f(x), x), x*f(x))"
      ]
     },
     "metadata": {},
     "output_type": "display_data"
    },
    {
     "data": {
      "text/latex": [
       "$\\displaystyle f{\\left(x \\right)} = C_{1} \\sqrt{x^{2} + 1}$"
      ],
      "text/plain": [
       "Eq(f(x), C1*sqrt(x**2 + 1))"
      ]
     },
     "metadata": {},
     "output_type": "display_data"
    }
   ],
   "source": [
    "#Remember that f(x) is y so it also works\n",
    "\n",
    "fx = sym.Function('f')(x)\n",
    "\n",
    "diffeq = Eq(sym.diff(fx, x, 1)*(x**2 + 1),x*fx)\n",
    "\n",
    "display(diffeq)\n",
    "display(dsolve(diffeq, fx))"
   ]
  },
  {
   "cell_type": "markdown",
   "metadata": {},
   "source": [
    "<div class=\"alert alert-block alert-info\">\n",
    "<b>Create first order linear differential equation and solving it</b>\n",
    "</div>"
   ]
  },
  {
   "cell_type": "code",
   "execution_count": 11,
   "metadata": {},
   "outputs": [
    {
     "data": {
      "text/latex": [
       "$\\displaystyle - f{\\left(x \\right)} + \\frac{d}{d x} f{\\left(x \\right)} = 2 e^{- x}$"
      ],
      "text/plain": [
       "Eq(-f(x) + Derivative(f(x), x), 2*exp(-x))"
      ]
     },
     "metadata": {},
     "output_type": "display_data"
    },
    {
     "data": {
      "text/latex": [
       "$\\displaystyle f{\\left(x \\right)} = \\left(C_{1} - e^{- 2 x}\\right) e^{x}$"
      ],
      "text/plain": [
       "Eq(f(x), (C1 - exp(-2*x))*exp(x))"
      ]
     },
     "metadata": {},
     "output_type": "display_data"
    }
   ],
   "source": [
    "diffeq = Eq(sym.diff(fx, x ,1) - fx, 2*sym.exp(-x))\n",
    "\n",
    "display(diffeq)\n",
    "display(dsolve(diffeq, fx))"
   ]
  },
  {
   "cell_type": "markdown",
   "metadata": {},
   "source": [
    "<div class=\"alert alert-block alert-info\">\n",
    "<b>Create Bernoulli or homogenous differential equation and solving it</b>\n",
    "</div>"
   ]
  },
  {
   "cell_type": "code",
   "execution_count": 12,
   "metadata": {},
   "outputs": [
    {
     "data": {
      "text/latex": [
       "$\\displaystyle \\frac{d}{d x} f{\\left(x \\right)} = \\frac{2 x^{2} + f^{2}{\\left(x \\right)}}{x f{\\left(x \\right)}}$"
      ],
      "text/plain": [
       "Eq(Derivative(f(x), x), (2*x**2 + f(x)**2)/(x*f(x)))"
      ]
     },
     "metadata": {},
     "output_type": "display_data"
    },
    {
     "data": {
      "text/latex": [
       "$\\displaystyle f{\\left(x \\right)} = \\sqrt{x^{2} \\left(C_{1} + 4 \\log{\\left(x \\right)}\\right)}$"
      ],
      "text/plain": [
       "Eq(f(x), sqrt(x**2*(C1 + 4*log(x))))"
      ]
     },
     "metadata": {},
     "output_type": "display_data"
    }
   ],
   "source": [
    "diffeq = Eq(sym.diff(fx, x ,1), (2*x**2 + fx**2)/(x*fx))\n",
    "\n",
    "display(diffeq)\n",
    "display(dsolve(diffeq, fx))"
   ]
  },
  {
   "cell_type": "markdown",
   "metadata": {},
   "source": [
    "<div class=\"alert alert-block alert-info\">\n",
    "<b>Create second order linear differential equation and solving it</b>\n",
    "</div>"
   ]
  },
  {
   "cell_type": "code",
   "execution_count": 13,
   "metadata": {},
   "outputs": [
    {
     "data": {
      "text/latex": [
       "$\\displaystyle - 6 f{\\left(x \\right)} + \\frac{d}{d x} f{\\left(x \\right)} + \\frac{d^{2}}{d x^{2}} f{\\left(x \\right)} = 0$"
      ],
      "text/plain": [
       "Eq(-6*f(x) + Derivative(f(x), x) + Derivative(f(x), (x, 2)), 0)"
      ]
     },
     "metadata": {},
     "output_type": "display_data"
    },
    {
     "data": {
      "text/latex": [
       "$\\displaystyle f{\\left(x \\right)} = C_{1} e^{- 3 x} + C_{2} e^{2 x}$"
      ],
      "text/plain": [
       "Eq(f(x), C1*exp(-3*x) + C2*exp(2*x))"
      ]
     },
     "execution_count": 13,
     "metadata": {},
     "output_type": "execute_result"
    }
   ],
   "source": [
    "diffeq = Eq(sym.diff(fx, x ,2) + sym.diff(fx, x ,1) - 6*fx, 0)\n",
    "\n",
    "display(diffeq)\n",
    "dsolve(diffeq, fx)"
   ]
  },
  {
   "cell_type": "markdown",
   "metadata": {},
   "source": [
    "<div class=\"alert alert-block alert-info\">\n",
    "<b>Create second order non linear  differential equation and solving it</b>\n",
    "</div>"
   ]
  },
  {
   "cell_type": "code",
   "execution_count": 14,
   "metadata": {
    "scrolled": true
   },
   "outputs": [
    {
     "data": {
      "text/latex": [
       "$\\displaystyle f{\\left(x \\right)} \\frac{d^{2}}{d x^{2}} f{\\left(x \\right)} = \\left(\\frac{d}{d x} f{\\left(x \\right)}\\right)^{2}$"
      ],
      "text/plain": [
       "Eq(f(x)*Derivative(f(x), (x, 2)), Derivative(f(x), x)**2)"
      ]
     },
     "metadata": {},
     "output_type": "display_data"
    },
    {
     "data": {
      "text/latex": [
       "$\\displaystyle f{\\left(x \\right)} = C_{1} e^{C_{2} x}$"
      ],
      "text/plain": [
       "Eq(f(x), C1*exp(C2*x))"
      ]
     },
     "execution_count": 14,
     "metadata": {},
     "output_type": "execute_result"
    }
   ],
   "source": [
    "diffeq = Eq(sym.diff(fx, x ,2)*fx,(sym.diff(fx, x ,1))**2)\n",
    "\n",
    "display(diffeq)\n",
    "dsolve(diffeq, fx)"
   ]
  }
 ],
 "metadata": {
  "kernelspec": {
   "display_name": "Python 3",
   "language": "python",
   "name": "python3"
  },
  "language_info": {
   "codemirror_mode": {
    "name": "ipython",
    "version": 3
   },
   "file_extension": ".py",
   "mimetype": "text/x-python",
   "name": "python",
   "nbconvert_exporter": "python",
   "pygments_lexer": "ipython3",
   "version": "3.7.7"
  }
 },
 "nbformat": 4,
 "nbformat_minor": 2
}
